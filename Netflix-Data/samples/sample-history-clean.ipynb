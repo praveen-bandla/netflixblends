{
 "cells": [
  {
   "cell_type": "code",
   "execution_count": 2,
   "metadata": {},
   "outputs": [],
   "source": [
    "import pandas as pd\n",
    "import math\n",
    "import plotly.express as px"
   ]
  },
  {
   "cell_type": "markdown",
   "metadata": {},
   "source": [
    "# Cleaning Sample History"
   ]
  },
  {
   "cell_type": "code",
   "execution_count": 63,
   "metadata": {
    "scrolled": true
   },
   "outputs": [],
   "source": [
    "df1 = pd.read_csv(\"Sample-History1.csv\")\n",
    "df2 = pd.read_csv(\"Sample-History3.csv\")\n",
    "#df = df.rename(columns = {\"Title\": \"History\"})"
   ]
  },
  {
   "cell_type": "code",
   "execution_count": null,
   "metadata": {},
   "outputs": [],
   "source": [
    "df2"
   ]
  },
  {
   "cell_type": "code",
   "execution_count": null,
   "metadata": {},
   "outputs": [],
   "source": [
    "# df['Date'] = pd.to_datetime(df['Date'])\n",
    "# df['Day']= df['Date'].dt.day\n",
    "# df['Month']= df['Date'].dt.month\n",
    "# df['Year']= df['Date'].dt.year\n",
    "# df['Day_of_week'] = df['Date'].dt.dayofweek # monday = 0, sunday = 6"
   ]
  },
  {
   "cell_type": "code",
   "execution_count": null,
   "metadata": {},
   "outputs": [],
   "source": [
    "# df"
   ]
  },
  {
   "cell_type": "code",
   "execution_count": null,
   "metadata": {},
   "outputs": [],
   "source": [
    "# df['Title'] = df['History'].str.rsplit(': ', 2).str[0]\n",
    "# df['Season'] = df['History'].str.rsplit(': ', 2).str[1]\n",
    "# df['Episode'] = df['History'].str.rsplit(': ', 2).str[2]"
   ]
  },
  {
   "cell_type": "code",
   "execution_count": null,
   "metadata": {},
   "outputs": [],
   "source": [
    "# df['Type'] = df['Episode'].apply(lambda x : 'Movie' if (pd.isna(x)==True) else 'TV')"
   ]
  },
  {
   "cell_type": "markdown",
   "metadata": {},
   "source": [
    "Right now, movies that have a colon in their title have an incomplete value in the `Title`. I correct that below:"
   ]
  },
  {
   "cell_type": "code",
   "execution_count": null,
   "metadata": {},
   "outputs": [],
   "source": [
    "# tv = df[df['Type']!='Movie']\n",
    "# movies = df[df['Type']=='Movie']\n",
    "# movies['Title'] = movies['History']\n",
    "# movies['Season'] = None"
   ]
  },
  {
   "cell_type": "code",
   "execution_count": null,
   "metadata": {},
   "outputs": [],
   "source": [
    "# tv.head()"
   ]
  },
  {
   "cell_type": "code",
   "execution_count": null,
   "metadata": {},
   "outputs": [],
   "source": [
    "# tv['Season'] = tv['Season'].str.split().str[1]"
   ]
  },
  {
   "cell_type": "code",
   "execution_count": null,
   "metadata": {},
   "outputs": [],
   "source": [
    "# df = pd.concat([movies, tv], ignore_index = True)"
   ]
  },
  {
   "cell_type": "code",
   "execution_count": 55,
   "metadata": {},
   "outputs": [],
   "source": [
    "def clean_watch_history(df):\n",
    "    '''\n",
    "    Function that cleans a given users watch history data\n",
    "    Input: dataframe\n",
    "    Output: (cleaned) dataframe\n",
    "    '''\n",
    "    df = df.rename(columns = {\"Title\": \"History\"})\n",
    "    df['Date'] = pd.to_datetime(df['Date'])\n",
    "    df['Day']= df['Date'].dt.day\n",
    "    df['Month']= df['Date'].dt.month\n",
    "    df['Year']= df['Date'].dt.year\n",
    "    df['Day_of_week'] = df['Date'].dt.dayofweek\n",
    "\n",
    "    df['Title'] = df['History'].str.rsplit(': ', 2).str[0]\n",
    "    df['Season'] = df['History'].str.rsplit(': ', 2).str[1]\n",
    "    df['Episode'] = df['History'].str.rsplit(': ', 2).str[2]\n",
    "\n",
    "    df['Type'] = df['Episode'].apply(lambda x : 'Movie' if (pd.isna(x)==True) else 'TV')\n",
    "\n",
    "    tv = df[df['Type']!='Movie']\n",
    "    tv['Season'] = tv['Season'].str.split().str[1]\n",
    "\n",
    "    movies = df[df['Type']=='Movie']\n",
    "    movies['Title'] = movies['History']\n",
    "    movies['Season'] = None\n",
    "\n",
    "    df = pd.concat([movies, tv], ignore_index = True)\n",
    "    return df"
   ]
  },
  {
   "cell_type": "code",
   "execution_count": 64,
   "metadata": {
    "scrolled": true
   },
   "outputs": [
    {
     "name": "stderr",
     "output_type": "stream",
     "text": [
      "/var/folders/nx/02f7zqm17f5_3khk_h9y42s00000gn/T/ipykernel_10681/3536717928.py:14: FutureWarning:\n",
      "\n",
      "In a future version of pandas all arguments of StringMethods.rsplit except for the argument 'pat' will be keyword-only.\n",
      "\n",
      "/var/folders/nx/02f7zqm17f5_3khk_h9y42s00000gn/T/ipykernel_10681/3536717928.py:15: FutureWarning:\n",
      "\n",
      "In a future version of pandas all arguments of StringMethods.rsplit except for the argument 'pat' will be keyword-only.\n",
      "\n",
      "/var/folders/nx/02f7zqm17f5_3khk_h9y42s00000gn/T/ipykernel_10681/3536717928.py:16: FutureWarning:\n",
      "\n",
      "In a future version of pandas all arguments of StringMethods.rsplit except for the argument 'pat' will be keyword-only.\n",
      "\n",
      "/var/folders/nx/02f7zqm17f5_3khk_h9y42s00000gn/T/ipykernel_10681/3536717928.py:21: SettingWithCopyWarning:\n",
      "\n",
      "\n",
      "A value is trying to be set on a copy of a slice from a DataFrame.\n",
      "Try using .loc[row_indexer,col_indexer] = value instead\n",
      "\n",
      "See the caveats in the documentation: https://pandas.pydata.org/pandas-docs/stable/user_guide/indexing.html#returning-a-view-versus-a-copy\n",
      "\n",
      "/var/folders/nx/02f7zqm17f5_3khk_h9y42s00000gn/T/ipykernel_10681/3536717928.py:24: SettingWithCopyWarning:\n",
      "\n",
      "\n",
      "A value is trying to be set on a copy of a slice from a DataFrame.\n",
      "Try using .loc[row_indexer,col_indexer] = value instead\n",
      "\n",
      "See the caveats in the documentation: https://pandas.pydata.org/pandas-docs/stable/user_guide/indexing.html#returning-a-view-versus-a-copy\n",
      "\n",
      "/var/folders/nx/02f7zqm17f5_3khk_h9y42s00000gn/T/ipykernel_10681/3536717928.py:25: SettingWithCopyWarning:\n",
      "\n",
      "\n",
      "A value is trying to be set on a copy of a slice from a DataFrame.\n",
      "Try using .loc[row_indexer,col_indexer] = value instead\n",
      "\n",
      "See the caveats in the documentation: https://pandas.pydata.org/pandas-docs/stable/user_guide/indexing.html#returning-a-view-versus-a-copy\n",
      "\n",
      "/var/folders/nx/02f7zqm17f5_3khk_h9y42s00000gn/T/ipykernel_10681/3536717928.py:14: FutureWarning:\n",
      "\n",
      "In a future version of pandas all arguments of StringMethods.rsplit except for the argument 'pat' will be keyword-only.\n",
      "\n",
      "/var/folders/nx/02f7zqm17f5_3khk_h9y42s00000gn/T/ipykernel_10681/3536717928.py:15: FutureWarning:\n",
      "\n",
      "In a future version of pandas all arguments of StringMethods.rsplit except for the argument 'pat' will be keyword-only.\n",
      "\n",
      "/var/folders/nx/02f7zqm17f5_3khk_h9y42s00000gn/T/ipykernel_10681/3536717928.py:16: FutureWarning:\n",
      "\n",
      "In a future version of pandas all arguments of StringMethods.rsplit except for the argument 'pat' will be keyword-only.\n",
      "\n",
      "/var/folders/nx/02f7zqm17f5_3khk_h9y42s00000gn/T/ipykernel_10681/3536717928.py:21: SettingWithCopyWarning:\n",
      "\n",
      "\n",
      "A value is trying to be set on a copy of a slice from a DataFrame.\n",
      "Try using .loc[row_indexer,col_indexer] = value instead\n",
      "\n",
      "See the caveats in the documentation: https://pandas.pydata.org/pandas-docs/stable/user_guide/indexing.html#returning-a-view-versus-a-copy\n",
      "\n",
      "/var/folders/nx/02f7zqm17f5_3khk_h9y42s00000gn/T/ipykernel_10681/3536717928.py:24: SettingWithCopyWarning:\n",
      "\n",
      "\n",
      "A value is trying to be set on a copy of a slice from a DataFrame.\n",
      "Try using .loc[row_indexer,col_indexer] = value instead\n",
      "\n",
      "See the caveats in the documentation: https://pandas.pydata.org/pandas-docs/stable/user_guide/indexing.html#returning-a-view-versus-a-copy\n",
      "\n",
      "/var/folders/nx/02f7zqm17f5_3khk_h9y42s00000gn/T/ipykernel_10681/3536717928.py:25: SettingWithCopyWarning:\n",
      "\n",
      "\n",
      "A value is trying to be set on a copy of a slice from a DataFrame.\n",
      "Try using .loc[row_indexer,col_indexer] = value instead\n",
      "\n",
      "See the caveats in the documentation: https://pandas.pydata.org/pandas-docs/stable/user_guide/indexing.html#returning-a-view-versus-a-copy\n",
      "\n"
     ]
    }
   ],
   "source": [
    "df1 = clean_watch_history(df1)\n",
    "df2 = clean_watch_history(df2)"
   ]
  },
  {
   "cell_type": "code",
   "execution_count": null,
   "metadata": {},
   "outputs": [],
   "source": [
    "df2[df2['History']=='Extraordinary Attorney Woo: The Blue Night of Jeju I']"
   ]
  },
  {
   "cell_type": "markdown",
   "metadata": {},
   "source": [
    "Issues:\n",
    "\n",
    "1. (**SOLVED**) TV shows that have a colon in their title need to be handled differently. See `Avatar: The Last Airbender`.\n",
    "    - Should we consider only calling split() on ': Season', ': Series', ': Book', etc? An obvious issue is it would be hard to compile an exhaustive such list. Other examples include Volume, Chapter, etc.\n",
    "    - Alternatively, we could keep a list of all TV shows from the Netflix dataset that do have a colon. If any show then appears in that list, we could then make sure its first colon is not counted in the above procedure. Again, an obvious issue is figuring out how to determine that a given show is in that list (since this has to occur before we do any cleaning)\n",
    "    - A potential solution is to do split on colon occurences in reverse order. For instance, only split based on the last two occurences of the colon character, and leave earlier colon occurences alone.\n",
    "    \n",
    "2. Movie titles may not exactly match the Netflix Dataset. See `Major (Telugu)`, which appears in the Netflix dataset just as `Major`, but in 3 different rows with 3 different languages.\n",
    "    - One solution would be to remove the `([language])` substring in the sample dataset, and drop duplicates in the Netflix dataset (since the only differences between the duplicates would be the language).\n",
    "    - Another solution would be to instead fuzzy match based on string similarity. Theoretically, this should work since exact matches would just have a 100% score. Plus, if titles in the Netflix dataset have this issue too (i saw at least one occurence), this might be able to handle those edge cases. Based on past experience, can be pain to implement (that being said, the logic is simpler than what I've previously had to deal with).\n",
    "        - We could also think about first doing exact string matching, and then performing fuzzy matching on the remaining titles that haven't been matched.\n",
    "    - Another solution is to just ignore :) and hope it doesn't affect our recommendations much\n",
    "3. TV Shows that have a colon in their episode name. See `New Girl: Season 6: Operation: Bobcat`.\n",
    "    - Similar issue to 1, but flipped. Hard to solve both issues 1 and 3. Maybe just ignore?"
   ]
  },
  {
   "cell_type": "markdown",
   "metadata": {},
   "source": [
    "# Merging with Netflix Data"
   ]
  },
  {
   "cell_type": "code",
   "execution_count": 57,
   "metadata": {},
   "outputs": [],
   "source": [
    "def netflix_merge(df):\n",
    "    '''\n",
    "    Function that merges given watch history with netflix dataset,\n",
    "    and returns merged dataset\n",
    "    '''\n",
    "    titles = pd.read_csv('titles.csv')\n",
    "    merged = df.merge(titles, left_on = 'Title', right_on = 'title', how = 'inner')\n",
    "    cols_to_drop = ['type', 'production_countries', 'imdb_id', 'age_certification', \n",
    "                    'title', 'seasons', 'tmdb_popularity']\n",
    "    merged = merged.drop(cols_to_drop, axis = 1)\n",
    "    return merged"
   ]
  },
  {
   "cell_type": "code",
   "execution_count": 65,
   "metadata": {
    "scrolled": true
   },
   "outputs": [],
   "source": [
    "df1 = netflix_merge(df1)\n",
    "df2 = netflix_merge(df2)"
   ]
  },
  {
   "cell_type": "code",
   "execution_count": null,
   "metadata": {},
   "outputs": [],
   "source": [
    "# titles = pd.read_csv(\"titles.csv\")"
   ]
  },
  {
   "cell_type": "code",
   "execution_count": null,
   "metadata": {},
   "outputs": [],
   "source": [
    "# merged = df.merge(titles, left_on = 'Title', right_on = 'title', how = 'inner')\n",
    "# only 7 rows were dropped"
   ]
  },
  {
   "cell_type": "code",
   "execution_count": null,
   "metadata": {},
   "outputs": [],
   "source": [
    "# merged.info()"
   ]
  },
  {
   "cell_type": "code",
   "execution_count": null,
   "metadata": {},
   "outputs": [],
   "source": [
    "# cols_to_drop = ['type', 'production_countries', 'imdb_id', 'age_certification', 'id', 'title', 'seasons',\n",
    "#                'tmdb_popularity']\n",
    "# merged = merged.drop(cols_to_drop, axis = 1)"
   ]
  },
  {
   "cell_type": "code",
   "execution_count": null,
   "metadata": {},
   "outputs": [],
   "source": [
    "# merged.head()"
   ]
  },
  {
   "cell_type": "markdown",
   "metadata": {},
   "source": [
    "# Overlap Merge"
   ]
  },
  {
   "cell_type": "code",
   "execution_count": 66,
   "metadata": {},
   "outputs": [],
   "source": [
    "def overlap_merge(df1, df2):\n",
    "    dfNew = df1.merge(df2, how = 'inner', left_on = 'History', right_on = 'History', suffixes=('', '_y'))\n",
    "    dfNew = dfNew.drop(dfNew.filter(regex='_y$').columns, axis=1)\n",
    "    return dfNew"
   ]
  },
  {
   "cell_type": "code",
   "execution_count": 67,
   "metadata": {},
   "outputs": [],
   "source": [
    "overlap = overlap_merge(df1, df2)"
   ]
  },
  {
   "cell_type": "code",
   "execution_count": 68,
   "metadata": {},
   "outputs": [
    {
     "data": {
      "text/html": [
       "<div>\n",
       "<style scoped>\n",
       "    .dataframe tbody tr th:only-of-type {\n",
       "        vertical-align: middle;\n",
       "    }\n",
       "\n",
       "    .dataframe tbody tr th {\n",
       "        vertical-align: top;\n",
       "    }\n",
       "\n",
       "    .dataframe thead th {\n",
       "        text-align: right;\n",
       "    }\n",
       "</style>\n",
       "<table border=\"1\" class=\"dataframe\">\n",
       "  <thead>\n",
       "    <tr style=\"text-align: right;\">\n",
       "      <th></th>\n",
       "      <th>History</th>\n",
       "      <th>Date</th>\n",
       "      <th>Day</th>\n",
       "      <th>Month</th>\n",
       "      <th>Year</th>\n",
       "      <th>Day_of_week</th>\n",
       "      <th>Title</th>\n",
       "      <th>Season</th>\n",
       "      <th>Episode</th>\n",
       "      <th>Type</th>\n",
       "      <th>id</th>\n",
       "      <th>description</th>\n",
       "      <th>release_year</th>\n",
       "      <th>runtime</th>\n",
       "      <th>genres</th>\n",
       "      <th>imdb_score</th>\n",
       "      <th>imdb_votes</th>\n",
       "      <th>tmdb_score</th>\n",
       "    </tr>\n",
       "  </thead>\n",
       "  <tbody>\n",
       "    <tr>\n",
       "      <th>0</th>\n",
       "      <td>Avatar: The Last Airbender: Book 1: The Boy in...</td>\n",
       "      <td>2022-09-30</td>\n",
       "      <td>30</td>\n",
       "      <td>9</td>\n",
       "      <td>2022</td>\n",
       "      <td>4</td>\n",
       "      <td>Avatar: The Last Airbender</td>\n",
       "      <td>1</td>\n",
       "      <td>The Boy in the Iceberg</td>\n",
       "      <td>TV</td>\n",
       "      <td>ts3371</td>\n",
       "      <td>In a war-torn world of elemental magic, a youn...</td>\n",
       "      <td>2005</td>\n",
       "      <td>24</td>\n",
       "      <td>['scifi', 'animation', 'action', 'family', 'fa...</td>\n",
       "      <td>9.3</td>\n",
       "      <td>303666.0</td>\n",
       "      <td>8.70</td>\n",
       "    </tr>\n",
       "    <tr>\n",
       "      <th>1</th>\n",
       "      <td>New Girl: Season 1: Fancyman, Part 1</td>\n",
       "      <td>2022-03-08</td>\n",
       "      <td>8</td>\n",
       "      <td>3</td>\n",
       "      <td>2022</td>\n",
       "      <td>1</td>\n",
       "      <td>New Girl</td>\n",
       "      <td>1</td>\n",
       "      <td>Fancyman, Part 1</td>\n",
       "      <td>TV</td>\n",
       "      <td>ts20564</td>\n",
       "      <td>Jessica Day is an offbeat and adorable girl in...</td>\n",
       "      <td>2011</td>\n",
       "      <td>21</td>\n",
       "      <td>['comedy', 'romance']</td>\n",
       "      <td>7.7</td>\n",
       "      <td>219079.0</td>\n",
       "      <td>7.30</td>\n",
       "    </tr>\n",
       "    <tr>\n",
       "      <th>2</th>\n",
       "      <td>New Girl: Season 1: Control</td>\n",
       "      <td>2022-03-08</td>\n",
       "      <td>8</td>\n",
       "      <td>3</td>\n",
       "      <td>2022</td>\n",
       "      <td>1</td>\n",
       "      <td>New Girl</td>\n",
       "      <td>1</td>\n",
       "      <td>Control</td>\n",
       "      <td>TV</td>\n",
       "      <td>ts20564</td>\n",
       "      <td>Jessica Day is an offbeat and adorable girl in...</td>\n",
       "      <td>2011</td>\n",
       "      <td>21</td>\n",
       "      <td>['comedy', 'romance']</td>\n",
       "      <td>7.7</td>\n",
       "      <td>219079.0</td>\n",
       "      <td>7.30</td>\n",
       "    </tr>\n",
       "    <tr>\n",
       "      <th>3</th>\n",
       "      <td>New Girl: Season 1: Injured</td>\n",
       "      <td>2022-01-08</td>\n",
       "      <td>8</td>\n",
       "      <td>1</td>\n",
       "      <td>2022</td>\n",
       "      <td>5</td>\n",
       "      <td>New Girl</td>\n",
       "      <td>1</td>\n",
       "      <td>Injured</td>\n",
       "      <td>TV</td>\n",
       "      <td>ts20564</td>\n",
       "      <td>Jessica Day is an offbeat and adorable girl in...</td>\n",
       "      <td>2011</td>\n",
       "      <td>21</td>\n",
       "      <td>['comedy', 'romance']</td>\n",
       "      <td>7.7</td>\n",
       "      <td>219079.0</td>\n",
       "      <td>7.30</td>\n",
       "    </tr>\n",
       "    <tr>\n",
       "      <th>4</th>\n",
       "      <td>New Girl: Season 1: Bully</td>\n",
       "      <td>2022-01-08</td>\n",
       "      <td>8</td>\n",
       "      <td>1</td>\n",
       "      <td>2022</td>\n",
       "      <td>5</td>\n",
       "      <td>New Girl</td>\n",
       "      <td>1</td>\n",
       "      <td>Bully</td>\n",
       "      <td>TV</td>\n",
       "      <td>ts20564</td>\n",
       "      <td>Jessica Day is an offbeat and adorable girl in...</td>\n",
       "      <td>2011</td>\n",
       "      <td>21</td>\n",
       "      <td>['comedy', 'romance']</td>\n",
       "      <td>7.7</td>\n",
       "      <td>219079.0</td>\n",
       "      <td>7.30</td>\n",
       "    </tr>\n",
       "    <tr>\n",
       "      <th>...</th>\n",
       "      <td>...</td>\n",
       "      <td>...</td>\n",
       "      <td>...</td>\n",
       "      <td>...</td>\n",
       "      <td>...</td>\n",
       "      <td>...</td>\n",
       "      <td>...</td>\n",
       "      <td>...</td>\n",
       "      <td>...</td>\n",
       "      <td>...</td>\n",
       "      <td>...</td>\n",
       "      <td>...</td>\n",
       "      <td>...</td>\n",
       "      <td>...</td>\n",
       "      <td>...</td>\n",
       "      <td>...</td>\n",
       "      <td>...</td>\n",
       "      <td>...</td>\n",
       "    </tr>\n",
       "    <tr>\n",
       "      <th>150</th>\n",
       "      <td>Breaking Bad: Season 1: Gray Matter</td>\n",
       "      <td>2022-03-16</td>\n",
       "      <td>16</td>\n",
       "      <td>3</td>\n",
       "      <td>2022</td>\n",
       "      <td>2</td>\n",
       "      <td>Breaking Bad</td>\n",
       "      <td>1</td>\n",
       "      <td>Gray Matter</td>\n",
       "      <td>TV</td>\n",
       "      <td>ts4</td>\n",
       "      <td>When Walter White, a New Mexico chemistry teac...</td>\n",
       "      <td>2008</td>\n",
       "      <td>48</td>\n",
       "      <td>['drama', 'crime', 'thriller']</td>\n",
       "      <td>9.5</td>\n",
       "      <td>1775990.0</td>\n",
       "      <td>8.79</td>\n",
       "    </tr>\n",
       "    <tr>\n",
       "      <th>151</th>\n",
       "      <td>Breaking Bad: Season 1: Cancer Man</td>\n",
       "      <td>2022-03-16</td>\n",
       "      <td>16</td>\n",
       "      <td>3</td>\n",
       "      <td>2022</td>\n",
       "      <td>2</td>\n",
       "      <td>Breaking Bad</td>\n",
       "      <td>1</td>\n",
       "      <td>Cancer Man</td>\n",
       "      <td>TV</td>\n",
       "      <td>ts4</td>\n",
       "      <td>When Walter White, a New Mexico chemistry teac...</td>\n",
       "      <td>2008</td>\n",
       "      <td>48</td>\n",
       "      <td>['drama', 'crime', 'thriller']</td>\n",
       "      <td>9.5</td>\n",
       "      <td>1775990.0</td>\n",
       "      <td>8.79</td>\n",
       "    </tr>\n",
       "    <tr>\n",
       "      <th>152</th>\n",
       "      <td>Breaking Bad: Season 1: And the Bag's in the R...</td>\n",
       "      <td>2022-03-16</td>\n",
       "      <td>16</td>\n",
       "      <td>3</td>\n",
       "      <td>2022</td>\n",
       "      <td>2</td>\n",
       "      <td>Breaking Bad</td>\n",
       "      <td>1</td>\n",
       "      <td>And the Bag's in the River</td>\n",
       "      <td>TV</td>\n",
       "      <td>ts4</td>\n",
       "      <td>When Walter White, a New Mexico chemistry teac...</td>\n",
       "      <td>2008</td>\n",
       "      <td>48</td>\n",
       "      <td>['drama', 'crime', 'thriller']</td>\n",
       "      <td>9.5</td>\n",
       "      <td>1775990.0</td>\n",
       "      <td>8.79</td>\n",
       "    </tr>\n",
       "    <tr>\n",
       "      <th>153</th>\n",
       "      <td>Breaking Bad: Season 1: The Cat's in the Bag</td>\n",
       "      <td>2022-03-15</td>\n",
       "      <td>15</td>\n",
       "      <td>3</td>\n",
       "      <td>2022</td>\n",
       "      <td>1</td>\n",
       "      <td>Breaking Bad</td>\n",
       "      <td>1</td>\n",
       "      <td>The Cat's in the Bag</td>\n",
       "      <td>TV</td>\n",
       "      <td>ts4</td>\n",
       "      <td>When Walter White, a New Mexico chemistry teac...</td>\n",
       "      <td>2008</td>\n",
       "      <td>48</td>\n",
       "      <td>['drama', 'crime', 'thriller']</td>\n",
       "      <td>9.5</td>\n",
       "      <td>1775990.0</td>\n",
       "      <td>8.79</td>\n",
       "    </tr>\n",
       "    <tr>\n",
       "      <th>154</th>\n",
       "      <td>Breaking Bad: Season 1: Pilot</td>\n",
       "      <td>2022-03-15</td>\n",
       "      <td>15</td>\n",
       "      <td>3</td>\n",
       "      <td>2022</td>\n",
       "      <td>1</td>\n",
       "      <td>Breaking Bad</td>\n",
       "      <td>1</td>\n",
       "      <td>Pilot</td>\n",
       "      <td>TV</td>\n",
       "      <td>ts4</td>\n",
       "      <td>When Walter White, a New Mexico chemistry teac...</td>\n",
       "      <td>2008</td>\n",
       "      <td>48</td>\n",
       "      <td>['drama', 'crime', 'thriller']</td>\n",
       "      <td>9.5</td>\n",
       "      <td>1775990.0</td>\n",
       "      <td>8.79</td>\n",
       "    </tr>\n",
       "  </tbody>\n",
       "</table>\n",
       "<p>155 rows × 18 columns</p>\n",
       "</div>"
      ],
      "text/plain": [
       "                                               History       Date  Day  Month  \\\n",
       "0    Avatar: The Last Airbender: Book 1: The Boy in... 2022-09-30   30      9   \n",
       "1                 New Girl: Season 1: Fancyman, Part 1 2022-03-08    8      3   \n",
       "2                          New Girl: Season 1: Control 2022-03-08    8      3   \n",
       "3                          New Girl: Season 1: Injured 2022-01-08    8      1   \n",
       "4                            New Girl: Season 1: Bully 2022-01-08    8      1   \n",
       "..                                                 ...        ...  ...    ...   \n",
       "150                Breaking Bad: Season 1: Gray Matter 2022-03-16   16      3   \n",
       "151                 Breaking Bad: Season 1: Cancer Man 2022-03-16   16      3   \n",
       "152  Breaking Bad: Season 1: And the Bag's in the R... 2022-03-16   16      3   \n",
       "153       Breaking Bad: Season 1: The Cat's in the Bag 2022-03-15   15      3   \n",
       "154                      Breaking Bad: Season 1: Pilot 2022-03-15   15      3   \n",
       "\n",
       "     Year  Day_of_week                       Title Season  \\\n",
       "0    2022            4  Avatar: The Last Airbender      1   \n",
       "1    2022            1                    New Girl      1   \n",
       "2    2022            1                    New Girl      1   \n",
       "3    2022            5                    New Girl      1   \n",
       "4    2022            5                    New Girl      1   \n",
       "..    ...          ...                         ...    ...   \n",
       "150  2022            2                Breaking Bad      1   \n",
       "151  2022            2                Breaking Bad      1   \n",
       "152  2022            2                Breaking Bad      1   \n",
       "153  2022            1                Breaking Bad      1   \n",
       "154  2022            1                Breaking Bad      1   \n",
       "\n",
       "                        Episode Type       id  \\\n",
       "0        The Boy in the Iceberg   TV   ts3371   \n",
       "1              Fancyman, Part 1   TV  ts20564   \n",
       "2                       Control   TV  ts20564   \n",
       "3                       Injured   TV  ts20564   \n",
       "4                         Bully   TV  ts20564   \n",
       "..                          ...  ...      ...   \n",
       "150                 Gray Matter   TV      ts4   \n",
       "151                  Cancer Man   TV      ts4   \n",
       "152  And the Bag's in the River   TV      ts4   \n",
       "153        The Cat's in the Bag   TV      ts4   \n",
       "154                       Pilot   TV      ts4   \n",
       "\n",
       "                                           description  release_year  runtime  \\\n",
       "0    In a war-torn world of elemental magic, a youn...          2005       24   \n",
       "1    Jessica Day is an offbeat and adorable girl in...          2011       21   \n",
       "2    Jessica Day is an offbeat and adorable girl in...          2011       21   \n",
       "3    Jessica Day is an offbeat and adorable girl in...          2011       21   \n",
       "4    Jessica Day is an offbeat and adorable girl in...          2011       21   \n",
       "..                                                 ...           ...      ...   \n",
       "150  When Walter White, a New Mexico chemistry teac...          2008       48   \n",
       "151  When Walter White, a New Mexico chemistry teac...          2008       48   \n",
       "152  When Walter White, a New Mexico chemistry teac...          2008       48   \n",
       "153  When Walter White, a New Mexico chemistry teac...          2008       48   \n",
       "154  When Walter White, a New Mexico chemistry teac...          2008       48   \n",
       "\n",
       "                                                genres  imdb_score  \\\n",
       "0    ['scifi', 'animation', 'action', 'family', 'fa...         9.3   \n",
       "1                                ['comedy', 'romance']         7.7   \n",
       "2                                ['comedy', 'romance']         7.7   \n",
       "3                                ['comedy', 'romance']         7.7   \n",
       "4                                ['comedy', 'romance']         7.7   \n",
       "..                                                 ...         ...   \n",
       "150                     ['drama', 'crime', 'thriller']         9.5   \n",
       "151                     ['drama', 'crime', 'thriller']         9.5   \n",
       "152                     ['drama', 'crime', 'thriller']         9.5   \n",
       "153                     ['drama', 'crime', 'thriller']         9.5   \n",
       "154                     ['drama', 'crime', 'thriller']         9.5   \n",
       "\n",
       "     imdb_votes  tmdb_score  \n",
       "0      303666.0        8.70  \n",
       "1      219079.0        7.30  \n",
       "2      219079.0        7.30  \n",
       "3      219079.0        7.30  \n",
       "4      219079.0        7.30  \n",
       "..          ...         ...  \n",
       "150   1775990.0        8.79  \n",
       "151   1775990.0        8.79  \n",
       "152   1775990.0        8.79  \n",
       "153   1775990.0        8.79  \n",
       "154   1775990.0        8.79  \n",
       "\n",
       "[155 rows x 18 columns]"
      ]
     },
     "execution_count": 68,
     "metadata": {},
     "output_type": "execute_result"
    }
   ],
   "source": [
    "overlap"
   ]
  },
  {
   "cell_type": "markdown",
   "metadata": {},
   "source": [
    "# Aggregation\n",
    "\n",
    "Stats/Visualizations to create:\n",
    "- Individual\n",
    "    - Viewing history by day of week\n",
    "    - Top 10 Shows Watched\n",
    "    - Movies most rewatched\n",
    "    - Viewing history by month\n",
    "    - Viewing history trend over time\n",
    "    - Average watch time per day\n",
    "- Common\n",
    "    - Most common TV shows\n",
    "    - Most common movies\n",
    "    - Most common genres\n",
    "    - Favorite actors/directors\n",
    "    - Match score\n",
    "- Overall\n",
    "    - Minutes spent vs all other users\n",
    "    - Percentile for top shows\n",
    "\n",
    "**For all of these, we could use number of minutes watched (using the runtime column) rather than just the number of episodes**"
   ]
  },
  {
   "cell_type": "markdown",
   "metadata": {},
   "source": [
    "1. Total Minutes Watched"
   ]
  },
  {
   "cell_type": "code",
   "execution_count": null,
   "metadata": {},
   "outputs": [],
   "source": [
    "def total_minutes(df):\n",
    "    fig = px.pie(df, values='runtime', names='Type', hole=.5)\n",
    "    fig.update_traces(hovertemplate='Total Watch Time: %{value} mins')\n",
    "    return fig"
   ]
  },
  {
   "cell_type": "code",
   "execution_count": null,
   "metadata": {},
   "outputs": [],
   "source": [
    "total_minutes(df1).show()"
   ]
  },
  {
   "cell_type": "code",
   "execution_count": null,
   "metadata": {},
   "outputs": [],
   "source": [
    "df = merged.groupby('Type').sum()"
   ]
  },
  {
   "cell_type": "code",
   "execution_count": null,
   "metadata": {},
   "outputs": [],
   "source": [
    "fig = px.pie(merged, values='runtime', names='Type', hole=.5)\n",
    "fig.update_traces(hovertemplate='Total Watch Time: %{value} mins')\n",
    "fig.show()"
   ]
  },
  {
   "cell_type": "markdown",
   "metadata": {},
   "source": [
    "2. Most watched TV shows"
   ]
  },
  {
   "cell_type": "code",
   "execution_count": null,
   "metadata": {},
   "outputs": [],
   "source": [
    "def most_watched_tv(df):\n",
    "    df = df[df['Type']=='TV']\n",
    "    df = df.groupby('Title').sum()\n",
    "    df = df.reset_index()\n",
    "    \n",
    "    df = df.sort_values(by='runtime', ascending= False)\n",
    "    # extract 10 most similar shows\n",
    "    df = df.head(10)\n",
    "    \n",
    "    fig = px.bar(data_frame= df,\n",
    "             x= \"runtime\",\n",
    "             y= \"Title\",\n",
    "             # text= \"num_shared_actors\",\n",
    "             labels= {\"runtime\": \"Minutes Watched\"},\n",
    "             text_auto= True)\n",
    "    fig.update_traces(hovertemplate='Total Watch Time: %{x} mins')\n",
    "    return fig"
   ]
  },
  {
   "cell_type": "code",
   "execution_count": null,
   "metadata": {},
   "outputs": [],
   "source": [
    "most_watched_tv(df1).show()"
   ]
  },
  {
   "cell_type": "code",
   "execution_count": null,
   "metadata": {},
   "outputs": [],
   "source": [
    "df = merged[merged['Type']=='TV']\n",
    "df = df.groupby('Title').sum()\n",
    "df = df.reset_index()"
   ]
  },
  {
   "cell_type": "code",
   "execution_count": null,
   "metadata": {},
   "outputs": [],
   "source": [
    "df = df.sort_values(by='runtime', ascending= False)\n",
    "# extract 10 most similar shows\n",
    "df = df.head(10)"
   ]
  },
  {
   "cell_type": "code",
   "execution_count": null,
   "metadata": {},
   "outputs": [],
   "source": [
    "fig = px.bar(data_frame= df,\n",
    "             x= \"runtime\",\n",
    "             y= \"Title\",\n",
    "             # text= \"num_shared_actors\",\n",
    "             labels= {\"runtime\": \"Minutes Watched\"},\n",
    "             text_auto= True)\n",
    "fig.update_traces(hovertemplate='Total Watch Time: %{x} mins')\n",
    "fig.show()"
   ]
  },
  {
   "cell_type": "markdown",
   "metadata": {},
   "source": [
    "3. Most watched genre"
   ]
  },
  {
   "cell_type": "code",
   "execution_count": null,
   "metadata": {},
   "outputs": [],
   "source": [
    "def most_watched_genre(df):\n",
    "    df['genres'] = df['genres'].apply(lambda x: x.replace('\\'', ''))\n",
    "    df['genres'] = df['genres'].apply(lambda x: x.replace('[', ''))\n",
    "    df['genres'] = df['genres'].apply(lambda x: x.replace(']', ''))\n",
    "    df['genres'] = df['genres'].apply(lambda x: x.replace(' ', ''))"
   ]
  },
  {
   "cell_type": "code",
   "execution_count": null,
   "metadata": {},
   "outputs": [],
   "source": [
    "df1"
   ]
  },
  {
   "cell_type": "code",
   "execution_count": 75,
   "metadata": {},
   "outputs": [],
   "source": [
    "df = df1\n",
    "df['genres'] = df['genres'].apply(lambda x: x.replace('\\'', ''))\n",
    "df['genres'] = df['genres'].apply(lambda x: x.replace('[', ''))\n",
    "df['genres'] = df['genres'].apply(lambda x: x.replace(']', ''))\n",
    "df['genres'] = df['genres'].apply(lambda x: x.replace(' ', ''))"
   ]
  },
  {
   "cell_type": "code",
   "execution_count": 76,
   "metadata": {},
   "outputs": [],
   "source": [
    "df = df['genres'].str.split(',', expand = True)"
   ]
  },
  {
   "cell_type": "code",
   "execution_count": 78,
   "metadata": {},
   "outputs": [],
   "source": [
    "temp1 = df1['genres'].str.split(',', expand = True)\n",
    "genre_col_list = ['genre_' + str(i) for i in range(len(temp1.columns))]\n",
    "temp1.columns = genre_col_list"
   ]
  },
  {
   "cell_type": "code",
   "execution_count": 79,
   "metadata": {},
   "outputs": [
    {
     "data": {
      "text/plain": [
       "['genre_0', 'genre_1', 'genre_2', 'genre_3', 'genre_4']"
      ]
     },
     "execution_count": 79,
     "metadata": {},
     "output_type": "execute_result"
    }
   ],
   "source": [
    "genre_col_list\n"
   ]
  },
  {
   "cell_type": "code",
   "execution_count": 80,
   "metadata": {},
   "outputs": [],
   "source": [
    "temp = pd.concat([df1, temp1], axis = 1)"
   ]
  },
  {
   "cell_type": "code",
   "execution_count": 81,
   "metadata": {},
   "outputs": [
    {
     "name": "stderr",
     "output_type": "stream",
     "text": [
      "/var/folders/nx/02f7zqm17f5_3khk_h9y42s00000gn/T/ipykernel_10681/4104630834.py:1: FutureWarning:\n",
      "\n",
      "The default dtype for empty Series will be 'object' instead of 'float64' in a future version. Specify a dtype explicitly to silence this warning.\n",
      "\n",
      "/var/folders/nx/02f7zqm17f5_3khk_h9y42s00000gn/T/ipykernel_10681/4104630834.py:3: FutureWarning:\n",
      "\n",
      "The default value of numeric_only in DataFrameGroupBy.sum is deprecated. In a future version, numeric_only will default to False. Either specify numeric_only or select only columns which should be valid for the function.\n",
      "\n",
      "/var/folders/nx/02f7zqm17f5_3khk_h9y42s00000gn/T/ipykernel_10681/4104630834.py:3: FutureWarning:\n",
      "\n",
      "The default value of numeric_only in DataFrameGroupBy.sum is deprecated. In a future version, numeric_only will default to False. Either specify numeric_only or select only columns which should be valid for the function.\n",
      "\n",
      "/var/folders/nx/02f7zqm17f5_3khk_h9y42s00000gn/T/ipykernel_10681/4104630834.py:3: FutureWarning:\n",
      "\n",
      "The default value of numeric_only in DataFrameGroupBy.sum is deprecated. In a future version, numeric_only will default to False. Either specify numeric_only or select only columns which should be valid for the function.\n",
      "\n",
      "/var/folders/nx/02f7zqm17f5_3khk_h9y42s00000gn/T/ipykernel_10681/4104630834.py:3: FutureWarning:\n",
      "\n",
      "The default value of numeric_only in DataFrameGroupBy.sum is deprecated. In a future version, numeric_only will default to False. Either specify numeric_only or select only columns which should be valid for the function.\n",
      "\n",
      "/var/folders/nx/02f7zqm17f5_3khk_h9y42s00000gn/T/ipykernel_10681/4104630834.py:3: FutureWarning:\n",
      "\n",
      "The default value of numeric_only in DataFrameGroupBy.sum is deprecated. In a future version, numeric_only will default to False. Either specify numeric_only or select only columns which should be valid for the function.\n",
      "\n"
     ]
    }
   ],
   "source": [
    "s = pd.Series()\n",
    "for i in genre_col_list:\n",
    "    s = s.add(temp.groupby(i).sum()['runtime'], fill_value=0)"
   ]
  },
  {
   "cell_type": "code",
   "execution_count": 95,
   "metadata": {},
   "outputs": [
    {
     "data": {
      "text/plain": [
       "'drama'"
      ]
     },
     "execution_count": 95,
     "metadata": {},
     "output_type": "execute_result"
    }
   ],
   "source": [
    "s.idxmax()"
   ]
  },
  {
   "cell_type": "code",
   "execution_count": 96,
   "metadata": {},
   "outputs": [
    {
     "data": {
      "text/html": [
       "<div>\n",
       "<style scoped>\n",
       "    .dataframe tbody tr th:only-of-type {\n",
       "        vertical-align: middle;\n",
       "    }\n",
       "\n",
       "    .dataframe tbody tr th {\n",
       "        vertical-align: top;\n",
       "    }\n",
       "\n",
       "    .dataframe thead th {\n",
       "        text-align: right;\n",
       "    }\n",
       "</style>\n",
       "<table border=\"1\" class=\"dataframe\">\n",
       "  <thead>\n",
       "    <tr style=\"text-align: right;\">\n",
       "      <th></th>\n",
       "      <th>index</th>\n",
       "      <th>0</th>\n",
       "    </tr>\n",
       "  </thead>\n",
       "  <tbody>\n",
       "    <tr>\n",
       "      <th>0</th>\n",
       "      <td>action</td>\n",
       "      <td>291.0</td>\n",
       "    </tr>\n",
       "    <tr>\n",
       "      <th>1</th>\n",
       "      <td>animation</td>\n",
       "      <td>24.0</td>\n",
       "    </tr>\n",
       "    <tr>\n",
       "      <th>2</th>\n",
       "      <td>comedy</td>\n",
       "      <td>3399.0</td>\n",
       "    </tr>\n",
       "    <tr>\n",
       "      <th>3</th>\n",
       "      <td>crime</td>\n",
       "      <td>4998.0</td>\n",
       "    </tr>\n",
       "    <tr>\n",
       "      <th>4</th>\n",
       "      <td>drama</td>\n",
       "      <td>6041.0</td>\n",
       "    </tr>\n",
       "    <tr>\n",
       "      <th>5</th>\n",
       "      <td>family</td>\n",
       "      <td>24.0</td>\n",
       "    </tr>\n",
       "    <tr>\n",
       "      <th>6</th>\n",
       "      <td>fantasy</td>\n",
       "      <td>24.0</td>\n",
       "    </tr>\n",
       "    <tr>\n",
       "      <th>7</th>\n",
       "      <td>history</td>\n",
       "      <td>558.0</td>\n",
       "    </tr>\n",
       "    <tr>\n",
       "      <th>8</th>\n",
       "      <td>romance</td>\n",
       "      <td>3773.0</td>\n",
       "    </tr>\n",
       "    <tr>\n",
       "      <th>9</th>\n",
       "      <td>scifi</td>\n",
       "      <td>24.0</td>\n",
       "    </tr>\n",
       "    <tr>\n",
       "      <th>10</th>\n",
       "      <td>thriller</td>\n",
       "      <td>2811.0</td>\n",
       "    </tr>\n",
       "  </tbody>\n",
       "</table>\n",
       "</div>"
      ],
      "text/plain": [
       "        index       0\n",
       "0      action   291.0\n",
       "1   animation    24.0\n",
       "2      comedy  3399.0\n",
       "3       crime  4998.0\n",
       "4       drama  6041.0\n",
       "5      family    24.0\n",
       "6     fantasy    24.0\n",
       "7     history   558.0\n",
       "8     romance  3773.0\n",
       "9       scifi    24.0\n",
       "10   thriller  2811.0"
      ]
     },
     "execution_count": 96,
     "metadata": {},
     "output_type": "execute_result"
    }
   ],
   "source": [
    "pd.DataFrame(s.reset_index())"
   ]
  },
  {
   "cell_type": "code",
   "execution_count": 97,
   "metadata": {},
   "outputs": [],
   "source": [
    "def most_watched_genre(df):\n",
    "    df['genres'] = df['genres'].apply(lambda x: x.replace('\\'', ''))\n",
    "    df['genres'] = df['genres'].apply(lambda x: x.replace('[', ''))\n",
    "    df['genres'] = df['genres'].apply(lambda x: x.replace(']', ''))\n",
    "    df['genres'] = df['genres'].apply(lambda x: x.replace(' ', ''))\n",
    "\n",
    "    temp = df['genres'].str.split(',', expand = True)\n",
    "    genre_col_list = ['genre_' + str(i) for i in range(len(temp.columns))]\n",
    "    temp.columns = genre_col_list\n",
    "\n",
    "    df = pd.concat([df, temp], axis = 1)\n",
    "\n",
    "    s = pd.Series()\n",
    "    for i in genre_col_list:\n",
    "        s = s.add(df.groupby(i).sum()['runtime'], fill_value=0)\n",
    "    \n",
    "    top_genre = s.idxmax()\n",
    "    df = pd.DataFrame(s.reset_index())\n",
    "\n",
    "    fig = px.pie(df, values=0, names='index', hole=.5)\n",
    "    fig.update_traces(hovertemplate='Number of Minutes Watched: %{value}')\n",
    "    return fig, top_genre"
   ]
  },
  {
   "cell_type": "code",
   "execution_count": 99,
   "metadata": {},
   "outputs": [
    {
     "name": "stderr",
     "output_type": "stream",
     "text": [
      "/var/folders/nx/02f7zqm17f5_3khk_h9y42s00000gn/T/ipykernel_10681/3544281500.py:13: FutureWarning:\n",
      "\n",
      "The default dtype for empty Series will be 'object' instead of 'float64' in a future version. Specify a dtype explicitly to silence this warning.\n",
      "\n",
      "/var/folders/nx/02f7zqm17f5_3khk_h9y42s00000gn/T/ipykernel_10681/3544281500.py:15: FutureWarning:\n",
      "\n",
      "The default value of numeric_only in DataFrameGroupBy.sum is deprecated. In a future version, numeric_only will default to False. Either specify numeric_only or select only columns which should be valid for the function.\n",
      "\n",
      "/var/folders/nx/02f7zqm17f5_3khk_h9y42s00000gn/T/ipykernel_10681/3544281500.py:15: FutureWarning:\n",
      "\n",
      "The default value of numeric_only in DataFrameGroupBy.sum is deprecated. In a future version, numeric_only will default to False. Either specify numeric_only or select only columns which should be valid for the function.\n",
      "\n",
      "/var/folders/nx/02f7zqm17f5_3khk_h9y42s00000gn/T/ipykernel_10681/3544281500.py:15: FutureWarning:\n",
      "\n",
      "The default value of numeric_only in DataFrameGroupBy.sum is deprecated. In a future version, numeric_only will default to False. Either specify numeric_only or select only columns which should be valid for the function.\n",
      "\n",
      "/var/folders/nx/02f7zqm17f5_3khk_h9y42s00000gn/T/ipykernel_10681/3544281500.py:15: FutureWarning:\n",
      "\n",
      "The default value of numeric_only in DataFrameGroupBy.sum is deprecated. In a future version, numeric_only will default to False. Either specify numeric_only or select only columns which should be valid for the function.\n",
      "\n",
      "/var/folders/nx/02f7zqm17f5_3khk_h9y42s00000gn/T/ipykernel_10681/3544281500.py:15: FutureWarning:\n",
      "\n",
      "The default value of numeric_only in DataFrameGroupBy.sum is deprecated. In a future version, numeric_only will default to False. Either specify numeric_only or select only columns which should be valid for the function.\n",
      "\n"
     ]
    },
    {
     "data": {
      "text/plain": [
       "'drama'"
      ]
     },
     "execution_count": 99,
     "metadata": {},
     "output_type": "execute_result"
    }
   ],
   "source": [
    "fig, top_genre = most_watched_genre(df1)\n",
    "top_genre"
   ]
  },
  {
   "attachments": {},
   "cell_type": "markdown",
   "metadata": {},
   "source": [
    "4. Top cast"
   ]
  },
  {
   "cell_type": "code",
   "execution_count": 28,
   "metadata": {},
   "outputs": [],
   "source": [
    "cast = pd.read_csv(\"credits.csv\")"
   ]
  },
  {
   "cell_type": "code",
   "execution_count": 32,
   "metadata": {},
   "outputs": [],
   "source": [
    "cast = cast[cast['role']=='ACTOR']"
   ]
  },
  {
   "cell_type": "code",
   "execution_count": 34,
   "metadata": {},
   "outputs": [],
   "source": [
    "temp = df1.merge(cast, how='left', left_on='id', right_on='id')"
   ]
  },
  {
   "cell_type": "code",
   "execution_count": 35,
   "metadata": {},
   "outputs": [
    {
     "data": {
      "text/html": [
       "<div>\n",
       "<style scoped>\n",
       "    .dataframe tbody tr th:only-of-type {\n",
       "        vertical-align: middle;\n",
       "    }\n",
       "\n",
       "    .dataframe tbody tr th {\n",
       "        vertical-align: top;\n",
       "    }\n",
       "\n",
       "    .dataframe thead th {\n",
       "        text-align: right;\n",
       "    }\n",
       "</style>\n",
       "<table border=\"1\" class=\"dataframe\">\n",
       "  <thead>\n",
       "    <tr style=\"text-align: right;\">\n",
       "      <th></th>\n",
       "      <th>History</th>\n",
       "      <th>Date</th>\n",
       "      <th>Day</th>\n",
       "      <th>Month</th>\n",
       "      <th>Year</th>\n",
       "      <th>Day_of_week</th>\n",
       "      <th>Title</th>\n",
       "      <th>Season</th>\n",
       "      <th>Episode</th>\n",
       "      <th>Type</th>\n",
       "      <th>...</th>\n",
       "      <th>release_year</th>\n",
       "      <th>runtime</th>\n",
       "      <th>genres</th>\n",
       "      <th>imdb_score</th>\n",
       "      <th>imdb_votes</th>\n",
       "      <th>tmdb_score</th>\n",
       "      <th>person_id</th>\n",
       "      <th>name</th>\n",
       "      <th>character</th>\n",
       "      <th>role</th>\n",
       "    </tr>\n",
       "  </thead>\n",
       "  <tbody>\n",
       "    <tr>\n",
       "      <th>4</th>\n",
       "      <td>Delhi Belly</td>\n",
       "      <td>2022-04-08</td>\n",
       "      <td>8</td>\n",
       "      <td>4</td>\n",
       "      <td>2022</td>\n",
       "      <td>4</td>\n",
       "      <td>Delhi Belly</td>\n",
       "      <td>None</td>\n",
       "      <td>NaN</td>\n",
       "      <td>Movie</td>\n",
       "      <td>...</td>\n",
       "      <td>2011</td>\n",
       "      <td>102</td>\n",
       "      <td>['comedy', 'action', 'crime', 'thriller']</td>\n",
       "      <td>7.5</td>\n",
       "      <td>29927.0</td>\n",
       "      <td>7.000</td>\n",
       "      <td>91185</td>\n",
       "      <td>Poorna Jagannathan</td>\n",
       "      <td>Menaka Vashisht</td>\n",
       "      <td>ACTOR</td>\n",
       "    </tr>\n",
       "    <tr>\n",
       "      <th>385</th>\n",
       "      <td>Never Have I Ever: Season 3: ...lived the dream</td>\n",
       "      <td>2022-12-08</td>\n",
       "      <td>8</td>\n",
       "      <td>12</td>\n",
       "      <td>2022</td>\n",
       "      <td>3</td>\n",
       "      <td>Never Have I Ever</td>\n",
       "      <td>3</td>\n",
       "      <td>...lived the dream</td>\n",
       "      <td>TV</td>\n",
       "      <td>...</td>\n",
       "      <td>2020</td>\n",
       "      <td>28</td>\n",
       "      <td>['comedy', 'drama']</td>\n",
       "      <td>7.8</td>\n",
       "      <td>47000.0</td>\n",
       "      <td>8.183</td>\n",
       "      <td>91185</td>\n",
       "      <td>Poorna Jagannathan</td>\n",
       "      <td>Dr. Nalini Vishwakumar</td>\n",
       "      <td>ACTOR</td>\n",
       "    </tr>\n",
       "    <tr>\n",
       "      <th>393</th>\n",
       "      <td>Never Have I Ever: Season 3: …had an Indian bo...</td>\n",
       "      <td>2022-12-08</td>\n",
       "      <td>8</td>\n",
       "      <td>12</td>\n",
       "      <td>2022</td>\n",
       "      <td>3</td>\n",
       "      <td>Never Have I Ever</td>\n",
       "      <td>3</td>\n",
       "      <td>…had an Indian boyfriend</td>\n",
       "      <td>TV</td>\n",
       "      <td>...</td>\n",
       "      <td>2020</td>\n",
       "      <td>28</td>\n",
       "      <td>['comedy', 'drama']</td>\n",
       "      <td>7.8</td>\n",
       "      <td>47000.0</td>\n",
       "      <td>8.183</td>\n",
       "      <td>91185</td>\n",
       "      <td>Poorna Jagannathan</td>\n",
       "      <td>Dr. Nalini Vishwakumar</td>\n",
       "      <td>ACTOR</td>\n",
       "    </tr>\n",
       "    <tr>\n",
       "      <th>401</th>\n",
       "      <td>Never Have I Ever: Season 3: ...hooked up with...</td>\n",
       "      <td>2022-12-08</td>\n",
       "      <td>8</td>\n",
       "      <td>12</td>\n",
       "      <td>2022</td>\n",
       "      <td>3</td>\n",
       "      <td>Never Have I Ever</td>\n",
       "      <td>3</td>\n",
       "      <td>...hooked up with my boyfriend</td>\n",
       "      <td>TV</td>\n",
       "      <td>...</td>\n",
       "      <td>2020</td>\n",
       "      <td>28</td>\n",
       "      <td>['comedy', 'drama']</td>\n",
       "      <td>7.8</td>\n",
       "      <td>47000.0</td>\n",
       "      <td>8.183</td>\n",
       "      <td>91185</td>\n",
       "      <td>Poorna Jagannathan</td>\n",
       "      <td>Dr. Nalini Vishwakumar</td>\n",
       "      <td>ACTOR</td>\n",
       "    </tr>\n",
       "    <tr>\n",
       "      <th>409</th>\n",
       "      <td>Never Have I Ever: Season 3: ...cheated</td>\n",
       "      <td>2022-12-08</td>\n",
       "      <td>8</td>\n",
       "      <td>12</td>\n",
       "      <td>2022</td>\n",
       "      <td>3</td>\n",
       "      <td>Never Have I Ever</td>\n",
       "      <td>3</td>\n",
       "      <td>...cheated</td>\n",
       "      <td>TV</td>\n",
       "      <td>...</td>\n",
       "      <td>2020</td>\n",
       "      <td>28</td>\n",
       "      <td>['comedy', 'drama']</td>\n",
       "      <td>7.8</td>\n",
       "      <td>47000.0</td>\n",
       "      <td>8.183</td>\n",
       "      <td>91185</td>\n",
       "      <td>Poorna Jagannathan</td>\n",
       "      <td>Dr. Nalini Vishwakumar</td>\n",
       "      <td>ACTOR</td>\n",
       "    </tr>\n",
       "    <tr>\n",
       "      <th>417</th>\n",
       "      <td>Never Have I Ever: Season 3: ...had a breakdown</td>\n",
       "      <td>2022-12-08</td>\n",
       "      <td>8</td>\n",
       "      <td>12</td>\n",
       "      <td>2022</td>\n",
       "      <td>3</td>\n",
       "      <td>Never Have I Ever</td>\n",
       "      <td>3</td>\n",
       "      <td>...had a breakdown</td>\n",
       "      <td>TV</td>\n",
       "      <td>...</td>\n",
       "      <td>2020</td>\n",
       "      <td>28</td>\n",
       "      <td>['comedy', 'drama']</td>\n",
       "      <td>7.8</td>\n",
       "      <td>47000.0</td>\n",
       "      <td>8.183</td>\n",
       "      <td>91185</td>\n",
       "      <td>Poorna Jagannathan</td>\n",
       "      <td>Dr. Nalini Vishwakumar</td>\n",
       "      <td>ACTOR</td>\n",
       "    </tr>\n",
       "    <tr>\n",
       "      <th>425</th>\n",
       "      <td>Never Have I Ever: Season 3: ...been ghosted</td>\n",
       "      <td>2022-12-08</td>\n",
       "      <td>8</td>\n",
       "      <td>12</td>\n",
       "      <td>2022</td>\n",
       "      <td>3</td>\n",
       "      <td>Never Have I Ever</td>\n",
       "      <td>3</td>\n",
       "      <td>...been ghosted</td>\n",
       "      <td>TV</td>\n",
       "      <td>...</td>\n",
       "      <td>2020</td>\n",
       "      <td>28</td>\n",
       "      <td>['comedy', 'drama']</td>\n",
       "      <td>7.8</td>\n",
       "      <td>47000.0</td>\n",
       "      <td>8.183</td>\n",
       "      <td>91185</td>\n",
       "      <td>Poorna Jagannathan</td>\n",
       "      <td>Dr. Nalini Vishwakumar</td>\n",
       "      <td>ACTOR</td>\n",
       "    </tr>\n",
       "    <tr>\n",
       "      <th>433</th>\n",
       "      <td>Never Have I Ever: Season 3: ...made someone j...</td>\n",
       "      <td>2022-12-08</td>\n",
       "      <td>8</td>\n",
       "      <td>12</td>\n",
       "      <td>2022</td>\n",
       "      <td>3</td>\n",
       "      <td>Never Have I Ever</td>\n",
       "      <td>3</td>\n",
       "      <td>...made someone jealous</td>\n",
       "      <td>TV</td>\n",
       "      <td>...</td>\n",
       "      <td>2020</td>\n",
       "      <td>28</td>\n",
       "      <td>['comedy', 'drama']</td>\n",
       "      <td>7.8</td>\n",
       "      <td>47000.0</td>\n",
       "      <td>8.183</td>\n",
       "      <td>91185</td>\n",
       "      <td>Poorna Jagannathan</td>\n",
       "      <td>Dr. Nalini Vishwakumar</td>\n",
       "      <td>ACTOR</td>\n",
       "    </tr>\n",
       "    <tr>\n",
       "      <th>441</th>\n",
       "      <td>Never Have I Ever: Season 3: …had a valentine</td>\n",
       "      <td>2022-12-08</td>\n",
       "      <td>8</td>\n",
       "      <td>12</td>\n",
       "      <td>2022</td>\n",
       "      <td>3</td>\n",
       "      <td>Never Have I Ever</td>\n",
       "      <td>3</td>\n",
       "      <td>…had a valentine</td>\n",
       "      <td>TV</td>\n",
       "      <td>...</td>\n",
       "      <td>2020</td>\n",
       "      <td>28</td>\n",
       "      <td>['comedy', 'drama']</td>\n",
       "      <td>7.8</td>\n",
       "      <td>47000.0</td>\n",
       "      <td>8.183</td>\n",
       "      <td>91185</td>\n",
       "      <td>Poorna Jagannathan</td>\n",
       "      <td>Dr. Nalini Vishwakumar</td>\n",
       "      <td>ACTOR</td>\n",
       "    </tr>\n",
       "    <tr>\n",
       "      <th>449</th>\n",
       "      <td>Never Have I Ever: Season 1: Pilot</td>\n",
       "      <td>2022-11-08</td>\n",
       "      <td>8</td>\n",
       "      <td>11</td>\n",
       "      <td>2022</td>\n",
       "      <td>1</td>\n",
       "      <td>Never Have I Ever</td>\n",
       "      <td>1</td>\n",
       "      <td>Pilot</td>\n",
       "      <td>TV</td>\n",
       "      <td>...</td>\n",
       "      <td>2020</td>\n",
       "      <td>28</td>\n",
       "      <td>['comedy', 'drama']</td>\n",
       "      <td>7.8</td>\n",
       "      <td>47000.0</td>\n",
       "      <td>8.183</td>\n",
       "      <td>91185</td>\n",
       "      <td>Poorna Jagannathan</td>\n",
       "      <td>Dr. Nalini Vishwakumar</td>\n",
       "      <td>ACTOR</td>\n",
       "    </tr>\n",
       "  </tbody>\n",
       "</table>\n",
       "<p>10 rows × 22 columns</p>\n",
       "</div>"
      ],
      "text/plain": [
       "                                               History       Date  Day  Month  \\\n",
       "4                                          Delhi Belly 2022-04-08    8      4   \n",
       "385    Never Have I Ever: Season 3: ...lived the dream 2022-12-08    8     12   \n",
       "393  Never Have I Ever: Season 3: …had an Indian bo... 2022-12-08    8     12   \n",
       "401  Never Have I Ever: Season 3: ...hooked up with... 2022-12-08    8     12   \n",
       "409            Never Have I Ever: Season 3: ...cheated 2022-12-08    8     12   \n",
       "417    Never Have I Ever: Season 3: ...had a breakdown 2022-12-08    8     12   \n",
       "425       Never Have I Ever: Season 3: ...been ghosted 2022-12-08    8     12   \n",
       "433  Never Have I Ever: Season 3: ...made someone j... 2022-12-08    8     12   \n",
       "441      Never Have I Ever: Season 3: …had a valentine 2022-12-08    8     12   \n",
       "449                 Never Have I Ever: Season 1: Pilot 2022-11-08    8     11   \n",
       "\n",
       "     Year  Day_of_week              Title Season  \\\n",
       "4    2022            4        Delhi Belly   None   \n",
       "385  2022            3  Never Have I Ever      3   \n",
       "393  2022            3  Never Have I Ever      3   \n",
       "401  2022            3  Never Have I Ever      3   \n",
       "409  2022            3  Never Have I Ever      3   \n",
       "417  2022            3  Never Have I Ever      3   \n",
       "425  2022            3  Never Have I Ever      3   \n",
       "433  2022            3  Never Have I Ever      3   \n",
       "441  2022            3  Never Have I Ever      3   \n",
       "449  2022            1  Never Have I Ever      1   \n",
       "\n",
       "                            Episode   Type  ... release_year runtime  \\\n",
       "4                               NaN  Movie  ...         2011     102   \n",
       "385              ...lived the dream     TV  ...         2020      28   \n",
       "393        …had an Indian boyfriend     TV  ...         2020      28   \n",
       "401  ...hooked up with my boyfriend     TV  ...         2020      28   \n",
       "409                      ...cheated     TV  ...         2020      28   \n",
       "417              ...had a breakdown     TV  ...         2020      28   \n",
       "425                 ...been ghosted     TV  ...         2020      28   \n",
       "433         ...made someone jealous     TV  ...         2020      28   \n",
       "441                …had a valentine     TV  ...         2020      28   \n",
       "449                           Pilot     TV  ...         2020      28   \n",
       "\n",
       "                                        genres  imdb_score imdb_votes  \\\n",
       "4    ['comedy', 'action', 'crime', 'thriller']         7.5    29927.0   \n",
       "385                        ['comedy', 'drama']         7.8    47000.0   \n",
       "393                        ['comedy', 'drama']         7.8    47000.0   \n",
       "401                        ['comedy', 'drama']         7.8    47000.0   \n",
       "409                        ['comedy', 'drama']         7.8    47000.0   \n",
       "417                        ['comedy', 'drama']         7.8    47000.0   \n",
       "425                        ['comedy', 'drama']         7.8    47000.0   \n",
       "433                        ['comedy', 'drama']         7.8    47000.0   \n",
       "441                        ['comedy', 'drama']         7.8    47000.0   \n",
       "449                        ['comedy', 'drama']         7.8    47000.0   \n",
       "\n",
       "     tmdb_score  person_id                name               character   role  \n",
       "4         7.000      91185  Poorna Jagannathan         Menaka Vashisht  ACTOR  \n",
       "385       8.183      91185  Poorna Jagannathan  Dr. Nalini Vishwakumar  ACTOR  \n",
       "393       8.183      91185  Poorna Jagannathan  Dr. Nalini Vishwakumar  ACTOR  \n",
       "401       8.183      91185  Poorna Jagannathan  Dr. Nalini Vishwakumar  ACTOR  \n",
       "409       8.183      91185  Poorna Jagannathan  Dr. Nalini Vishwakumar  ACTOR  \n",
       "417       8.183      91185  Poorna Jagannathan  Dr. Nalini Vishwakumar  ACTOR  \n",
       "425       8.183      91185  Poorna Jagannathan  Dr. Nalini Vishwakumar  ACTOR  \n",
       "433       8.183      91185  Poorna Jagannathan  Dr. Nalini Vishwakumar  ACTOR  \n",
       "441       8.183      91185  Poorna Jagannathan  Dr. Nalini Vishwakumar  ACTOR  \n",
       "449       8.183      91185  Poorna Jagannathan  Dr. Nalini Vishwakumar  ACTOR  \n",
       "\n",
       "[10 rows x 22 columns]"
      ]
     },
     "execution_count": 35,
     "metadata": {},
     "output_type": "execute_result"
    }
   ],
   "source": [
    "temp[temp['name']=='Poorna Jagannathan']"
   ]
  },
  {
   "cell_type": "code",
   "execution_count": 46,
   "metadata": {},
   "outputs": [],
   "source": [
    "temp = temp.groupby('name').count()['Title'].reset_index()"
   ]
  },
  {
   "cell_type": "code",
   "execution_count": 47,
   "metadata": {},
   "outputs": [
    {
     "data": {
      "text/html": [
       "<div>\n",
       "<style scoped>\n",
       "    .dataframe tbody tr th:only-of-type {\n",
       "        vertical-align: middle;\n",
       "    }\n",
       "\n",
       "    .dataframe tbody tr th {\n",
       "        vertical-align: top;\n",
       "    }\n",
       "\n",
       "    .dataframe thead th {\n",
       "        text-align: right;\n",
       "    }\n",
       "</style>\n",
       "<table border=\"1\" class=\"dataframe\">\n",
       "  <thead>\n",
       "    <tr style=\"text-align: right;\">\n",
       "      <th></th>\n",
       "      <th>name</th>\n",
       "      <th>Title</th>\n",
       "    </tr>\n",
       "  </thead>\n",
       "  <tbody>\n",
       "    <tr>\n",
       "      <th>0</th>\n",
       "      <td>Aamani</td>\n",
       "      <td>1</td>\n",
       "    </tr>\n",
       "    <tr>\n",
       "      <th>1</th>\n",
       "      <td>Aamir Khan</td>\n",
       "      <td>1</td>\n",
       "    </tr>\n",
       "    <tr>\n",
       "      <th>2</th>\n",
       "      <td>Aaron Paul</td>\n",
       "      <td>53</td>\n",
       "    </tr>\n",
       "    <tr>\n",
       "      <th>3</th>\n",
       "      <td>Abhay Bethiganti</td>\n",
       "      <td>1</td>\n",
       "    </tr>\n",
       "    <tr>\n",
       "      <th>4</th>\n",
       "      <td>Adjoa Andoh</td>\n",
       "      <td>9</td>\n",
       "    </tr>\n",
       "  </tbody>\n",
       "</table>\n",
       "</div>"
      ],
      "text/plain": [
       "               name  Title\n",
       "0            Aamani      1\n",
       "1        Aamir Khan      1\n",
       "2        Aaron Paul     53\n",
       "3  Abhay Bethiganti      1\n",
       "4       Adjoa Andoh      9"
      ]
     },
     "execution_count": 47,
     "metadata": {},
     "output_type": "execute_result"
    }
   ],
   "source": [
    "temp.head()"
   ]
  },
  {
   "cell_type": "code",
   "execution_count": 48,
   "metadata": {},
   "outputs": [
    {
     "data": {
      "application/vnd.plotly.v1+json": {
       "config": {
        "plotlyServerURL": "https://plot.ly"
       },
       "data": [
        {
         "alignmentgroup": "True",
         "hovertemplate": "Total Appearances: %{x}",
         "legendgroup": "",
         "marker": {
          "color": "#636efa",
          "pattern": {
           "shape": ""
          }
         },
         "name": "",
         "offsetgroup": "",
         "orientation": "h",
         "showlegend": false,
         "textposition": "auto",
         "texttemplate": "%{x}",
         "type": "bar",
         "x": [
          145,
          145,
          145,
          145,
          145,
          101,
          101,
          53,
          53,
          53
         ],
         "xaxis": "x",
         "y": [
          "Zooey Deschanel",
          "Max Greenfield",
          "Jake Johnson",
          "Lamorne Morris",
          "Hannah Simone",
          "Bob Odenkirk",
          "Jonathan Banks",
          "Betsy Brandt",
          "RJ Mitte",
          "Aaron Paul"
         ],
         "yaxis": "y"
        }
       ],
       "layout": {
        "barmode": "relative",
        "legend": {
         "tracegroupgap": 0
        },
        "margin": {
         "t": 60
        },
        "template": {
         "data": {
          "bar": [
           {
            "error_x": {
             "color": "#2a3f5f"
            },
            "error_y": {
             "color": "#2a3f5f"
            },
            "marker": {
             "line": {
              "color": "#E5ECF6",
              "width": 0.5
             },
             "pattern": {
              "fillmode": "overlay",
              "size": 10,
              "solidity": 0.2
             }
            },
            "type": "bar"
           }
          ],
          "barpolar": [
           {
            "marker": {
             "line": {
              "color": "#E5ECF6",
              "width": 0.5
             },
             "pattern": {
              "fillmode": "overlay",
              "size": 10,
              "solidity": 0.2
             }
            },
            "type": "barpolar"
           }
          ],
          "carpet": [
           {
            "aaxis": {
             "endlinecolor": "#2a3f5f",
             "gridcolor": "white",
             "linecolor": "white",
             "minorgridcolor": "white",
             "startlinecolor": "#2a3f5f"
            },
            "baxis": {
             "endlinecolor": "#2a3f5f",
             "gridcolor": "white",
             "linecolor": "white",
             "minorgridcolor": "white",
             "startlinecolor": "#2a3f5f"
            },
            "type": "carpet"
           }
          ],
          "choropleth": [
           {
            "colorbar": {
             "outlinewidth": 0,
             "ticks": ""
            },
            "type": "choropleth"
           }
          ],
          "contour": [
           {
            "colorbar": {
             "outlinewidth": 0,
             "ticks": ""
            },
            "colorscale": [
             [
              0,
              "#0d0887"
             ],
             [
              0.1111111111111111,
              "#46039f"
             ],
             [
              0.2222222222222222,
              "#7201a8"
             ],
             [
              0.3333333333333333,
              "#9c179e"
             ],
             [
              0.4444444444444444,
              "#bd3786"
             ],
             [
              0.5555555555555556,
              "#d8576b"
             ],
             [
              0.6666666666666666,
              "#ed7953"
             ],
             [
              0.7777777777777778,
              "#fb9f3a"
             ],
             [
              0.8888888888888888,
              "#fdca26"
             ],
             [
              1,
              "#f0f921"
             ]
            ],
            "type": "contour"
           }
          ],
          "contourcarpet": [
           {
            "colorbar": {
             "outlinewidth": 0,
             "ticks": ""
            },
            "type": "contourcarpet"
           }
          ],
          "heatmap": [
           {
            "colorbar": {
             "outlinewidth": 0,
             "ticks": ""
            },
            "colorscale": [
             [
              0,
              "#0d0887"
             ],
             [
              0.1111111111111111,
              "#46039f"
             ],
             [
              0.2222222222222222,
              "#7201a8"
             ],
             [
              0.3333333333333333,
              "#9c179e"
             ],
             [
              0.4444444444444444,
              "#bd3786"
             ],
             [
              0.5555555555555556,
              "#d8576b"
             ],
             [
              0.6666666666666666,
              "#ed7953"
             ],
             [
              0.7777777777777778,
              "#fb9f3a"
             ],
             [
              0.8888888888888888,
              "#fdca26"
             ],
             [
              1,
              "#f0f921"
             ]
            ],
            "type": "heatmap"
           }
          ],
          "heatmapgl": [
           {
            "colorbar": {
             "outlinewidth": 0,
             "ticks": ""
            },
            "colorscale": [
             [
              0,
              "#0d0887"
             ],
             [
              0.1111111111111111,
              "#46039f"
             ],
             [
              0.2222222222222222,
              "#7201a8"
             ],
             [
              0.3333333333333333,
              "#9c179e"
             ],
             [
              0.4444444444444444,
              "#bd3786"
             ],
             [
              0.5555555555555556,
              "#d8576b"
             ],
             [
              0.6666666666666666,
              "#ed7953"
             ],
             [
              0.7777777777777778,
              "#fb9f3a"
             ],
             [
              0.8888888888888888,
              "#fdca26"
             ],
             [
              1,
              "#f0f921"
             ]
            ],
            "type": "heatmapgl"
           }
          ],
          "histogram": [
           {
            "marker": {
             "pattern": {
              "fillmode": "overlay",
              "size": 10,
              "solidity": 0.2
             }
            },
            "type": "histogram"
           }
          ],
          "histogram2d": [
           {
            "colorbar": {
             "outlinewidth": 0,
             "ticks": ""
            },
            "colorscale": [
             [
              0,
              "#0d0887"
             ],
             [
              0.1111111111111111,
              "#46039f"
             ],
             [
              0.2222222222222222,
              "#7201a8"
             ],
             [
              0.3333333333333333,
              "#9c179e"
             ],
             [
              0.4444444444444444,
              "#bd3786"
             ],
             [
              0.5555555555555556,
              "#d8576b"
             ],
             [
              0.6666666666666666,
              "#ed7953"
             ],
             [
              0.7777777777777778,
              "#fb9f3a"
             ],
             [
              0.8888888888888888,
              "#fdca26"
             ],
             [
              1,
              "#f0f921"
             ]
            ],
            "type": "histogram2d"
           }
          ],
          "histogram2dcontour": [
           {
            "colorbar": {
             "outlinewidth": 0,
             "ticks": ""
            },
            "colorscale": [
             [
              0,
              "#0d0887"
             ],
             [
              0.1111111111111111,
              "#46039f"
             ],
             [
              0.2222222222222222,
              "#7201a8"
             ],
             [
              0.3333333333333333,
              "#9c179e"
             ],
             [
              0.4444444444444444,
              "#bd3786"
             ],
             [
              0.5555555555555556,
              "#d8576b"
             ],
             [
              0.6666666666666666,
              "#ed7953"
             ],
             [
              0.7777777777777778,
              "#fb9f3a"
             ],
             [
              0.8888888888888888,
              "#fdca26"
             ],
             [
              1,
              "#f0f921"
             ]
            ],
            "type": "histogram2dcontour"
           }
          ],
          "mesh3d": [
           {
            "colorbar": {
             "outlinewidth": 0,
             "ticks": ""
            },
            "type": "mesh3d"
           }
          ],
          "parcoords": [
           {
            "line": {
             "colorbar": {
              "outlinewidth": 0,
              "ticks": ""
             }
            },
            "type": "parcoords"
           }
          ],
          "pie": [
           {
            "automargin": true,
            "type": "pie"
           }
          ],
          "scatter": [
           {
            "fillpattern": {
             "fillmode": "overlay",
             "size": 10,
             "solidity": 0.2
            },
            "type": "scatter"
           }
          ],
          "scatter3d": [
           {
            "line": {
             "colorbar": {
              "outlinewidth": 0,
              "ticks": ""
             }
            },
            "marker": {
             "colorbar": {
              "outlinewidth": 0,
              "ticks": ""
             }
            },
            "type": "scatter3d"
           }
          ],
          "scattercarpet": [
           {
            "marker": {
             "colorbar": {
              "outlinewidth": 0,
              "ticks": ""
             }
            },
            "type": "scattercarpet"
           }
          ],
          "scattergeo": [
           {
            "marker": {
             "colorbar": {
              "outlinewidth": 0,
              "ticks": ""
             }
            },
            "type": "scattergeo"
           }
          ],
          "scattergl": [
           {
            "marker": {
             "colorbar": {
              "outlinewidth": 0,
              "ticks": ""
             }
            },
            "type": "scattergl"
           }
          ],
          "scattermapbox": [
           {
            "marker": {
             "colorbar": {
              "outlinewidth": 0,
              "ticks": ""
             }
            },
            "type": "scattermapbox"
           }
          ],
          "scatterpolar": [
           {
            "marker": {
             "colorbar": {
              "outlinewidth": 0,
              "ticks": ""
             }
            },
            "type": "scatterpolar"
           }
          ],
          "scatterpolargl": [
           {
            "marker": {
             "colorbar": {
              "outlinewidth": 0,
              "ticks": ""
             }
            },
            "type": "scatterpolargl"
           }
          ],
          "scatterternary": [
           {
            "marker": {
             "colorbar": {
              "outlinewidth": 0,
              "ticks": ""
             }
            },
            "type": "scatterternary"
           }
          ],
          "surface": [
           {
            "colorbar": {
             "outlinewidth": 0,
             "ticks": ""
            },
            "colorscale": [
             [
              0,
              "#0d0887"
             ],
             [
              0.1111111111111111,
              "#46039f"
             ],
             [
              0.2222222222222222,
              "#7201a8"
             ],
             [
              0.3333333333333333,
              "#9c179e"
             ],
             [
              0.4444444444444444,
              "#bd3786"
             ],
             [
              0.5555555555555556,
              "#d8576b"
             ],
             [
              0.6666666666666666,
              "#ed7953"
             ],
             [
              0.7777777777777778,
              "#fb9f3a"
             ],
             [
              0.8888888888888888,
              "#fdca26"
             ],
             [
              1,
              "#f0f921"
             ]
            ],
            "type": "surface"
           }
          ],
          "table": [
           {
            "cells": {
             "fill": {
              "color": "#EBF0F8"
             },
             "line": {
              "color": "white"
             }
            },
            "header": {
             "fill": {
              "color": "#C8D4E3"
             },
             "line": {
              "color": "white"
             }
            },
            "type": "table"
           }
          ]
         },
         "layout": {
          "annotationdefaults": {
           "arrowcolor": "#2a3f5f",
           "arrowhead": 0,
           "arrowwidth": 1
          },
          "autotypenumbers": "strict",
          "coloraxis": {
           "colorbar": {
            "outlinewidth": 0,
            "ticks": ""
           }
          },
          "colorscale": {
           "diverging": [
            [
             0,
             "#8e0152"
            ],
            [
             0.1,
             "#c51b7d"
            ],
            [
             0.2,
             "#de77ae"
            ],
            [
             0.3,
             "#f1b6da"
            ],
            [
             0.4,
             "#fde0ef"
            ],
            [
             0.5,
             "#f7f7f7"
            ],
            [
             0.6,
             "#e6f5d0"
            ],
            [
             0.7,
             "#b8e186"
            ],
            [
             0.8,
             "#7fbc41"
            ],
            [
             0.9,
             "#4d9221"
            ],
            [
             1,
             "#276419"
            ]
           ],
           "sequential": [
            [
             0,
             "#0d0887"
            ],
            [
             0.1111111111111111,
             "#46039f"
            ],
            [
             0.2222222222222222,
             "#7201a8"
            ],
            [
             0.3333333333333333,
             "#9c179e"
            ],
            [
             0.4444444444444444,
             "#bd3786"
            ],
            [
             0.5555555555555556,
             "#d8576b"
            ],
            [
             0.6666666666666666,
             "#ed7953"
            ],
            [
             0.7777777777777778,
             "#fb9f3a"
            ],
            [
             0.8888888888888888,
             "#fdca26"
            ],
            [
             1,
             "#f0f921"
            ]
           ],
           "sequentialminus": [
            [
             0,
             "#0d0887"
            ],
            [
             0.1111111111111111,
             "#46039f"
            ],
            [
             0.2222222222222222,
             "#7201a8"
            ],
            [
             0.3333333333333333,
             "#9c179e"
            ],
            [
             0.4444444444444444,
             "#bd3786"
            ],
            [
             0.5555555555555556,
             "#d8576b"
            ],
            [
             0.6666666666666666,
             "#ed7953"
            ],
            [
             0.7777777777777778,
             "#fb9f3a"
            ],
            [
             0.8888888888888888,
             "#fdca26"
            ],
            [
             1,
             "#f0f921"
            ]
           ]
          },
          "colorway": [
           "#636efa",
           "#EF553B",
           "#00cc96",
           "#ab63fa",
           "#FFA15A",
           "#19d3f3",
           "#FF6692",
           "#B6E880",
           "#FF97FF",
           "#FECB52"
          ],
          "font": {
           "color": "#2a3f5f"
          },
          "geo": {
           "bgcolor": "white",
           "lakecolor": "white",
           "landcolor": "#E5ECF6",
           "showlakes": true,
           "showland": true,
           "subunitcolor": "white"
          },
          "hoverlabel": {
           "align": "left"
          },
          "hovermode": "closest",
          "mapbox": {
           "style": "light"
          },
          "paper_bgcolor": "white",
          "plot_bgcolor": "#E5ECF6",
          "polar": {
           "angularaxis": {
            "gridcolor": "white",
            "linecolor": "white",
            "ticks": ""
           },
           "bgcolor": "#E5ECF6",
           "radialaxis": {
            "gridcolor": "white",
            "linecolor": "white",
            "ticks": ""
           }
          },
          "scene": {
           "xaxis": {
            "backgroundcolor": "#E5ECF6",
            "gridcolor": "white",
            "gridwidth": 2,
            "linecolor": "white",
            "showbackground": true,
            "ticks": "",
            "zerolinecolor": "white"
           },
           "yaxis": {
            "backgroundcolor": "#E5ECF6",
            "gridcolor": "white",
            "gridwidth": 2,
            "linecolor": "white",
            "showbackground": true,
            "ticks": "",
            "zerolinecolor": "white"
           },
           "zaxis": {
            "backgroundcolor": "#E5ECF6",
            "gridcolor": "white",
            "gridwidth": 2,
            "linecolor": "white",
            "showbackground": true,
            "ticks": "",
            "zerolinecolor": "white"
           }
          },
          "shapedefaults": {
           "line": {
            "color": "#2a3f5f"
           }
          },
          "ternary": {
           "aaxis": {
            "gridcolor": "white",
            "linecolor": "white",
            "ticks": ""
           },
           "baxis": {
            "gridcolor": "white",
            "linecolor": "white",
            "ticks": ""
           },
           "bgcolor": "#E5ECF6",
           "caxis": {
            "gridcolor": "white",
            "linecolor": "white",
            "ticks": ""
           }
          },
          "title": {
           "x": 0.05
          },
          "xaxis": {
           "automargin": true,
           "gridcolor": "white",
           "linecolor": "white",
           "ticks": "",
           "title": {
            "standoff": 15
           },
           "zerolinecolor": "white",
           "zerolinewidth": 2
          },
          "yaxis": {
           "automargin": true,
           "gridcolor": "white",
           "linecolor": "white",
           "ticks": "",
           "title": {
            "standoff": 15
           },
           "zerolinecolor": "white",
           "zerolinewidth": 2
          }
         }
        },
        "xaxis": {
         "anchor": "y",
         "domain": [
          0,
          1
         ],
         "title": {
          "text": "Number of Appearances"
         }
        },
        "yaxis": {
         "anchor": "x",
         "domain": [
          0,
          1
         ],
         "title": {
          "text": "name"
         }
        }
       }
      }
     },
     "metadata": {},
     "output_type": "display_data"
    }
   ],
   "source": [
    "temp = temp.sort_values(by='Title', ascending= False)\n",
    "# extract 10 most similar shows\n",
    "temp = temp.head(10)\n",
    "fig = px.bar(data_frame= temp,\n",
    "             x= \"Title\",\n",
    "             y= \"name\",\n",
    "             # text= \"num_shared_actors\",\n",
    "             labels= {\"Title\": \"Number of Appearances\"},\n",
    "             text_auto= True)\n",
    "fig.update_traces(hovertemplate='Total Appearances: %{x}')\n",
    "fig.show()"
   ]
  },
  {
   "cell_type": "code",
   "execution_count": 69,
   "metadata": {},
   "outputs": [],
   "source": [
    "def top_actors(df):\n",
    "    cast = pd.read_csv(\"credits.csv\")\n",
    "    cast = cast[cast['role']=='ACTOR']\n",
    "    df = df.merge(cast, how='left', left_on='id', right_on='id')\n",
    "\n",
    "    df = df.groupby('name').count()['Title'].reset_index()\n",
    "    df = df.sort_values(by='Title', ascending= False)\n",
    "    df = df.head(10)\n",
    "\n",
    "    fig = px.bar(data_frame= df,\n",
    "                x= \"Title\",\n",
    "                y= \"name\",\n",
    "                # text= \"num_shared_actors\",\n",
    "                labels= {\"Title\": \"Number of Appearances\"},\n",
    "                text_auto= True)\n",
    "    fig.show()"
   ]
  },
  {
   "cell_type": "code",
   "execution_count": 70,
   "metadata": {},
   "outputs": [
    {
     "data": {
      "application/vnd.plotly.v1+json": {
       "config": {
        "plotlyServerURL": "https://plot.ly"
       },
       "data": [
        {
         "alignmentgroup": "True",
         "hovertemplate": "Number of Appearances=%{x}<br>name=%{y}<extra></extra>",
         "legendgroup": "",
         "marker": {
          "color": "#636efa",
          "pattern": {
           "shape": ""
          }
         },
         "name": "",
         "offsetgroup": "",
         "orientation": "h",
         "showlegend": false,
         "textposition": "auto",
         "texttemplate": "%{x}",
         "type": "bar",
         "x": [
          136,
          136,
          136,
          136,
          136,
          18,
          18,
          18,
          18,
          18
         ],
         "xaxis": "x",
         "y": [
          "Hannah Simone",
          "Jake Johnson",
          "Max Greenfield",
          "Lamorne Morris",
          "Zooey Deschanel",
          "Bryan Cranston",
          "Jonathan Banks",
          "RJ Mitte",
          "Anna Gunn",
          "Betsy Brandt"
         ],
         "yaxis": "y"
        }
       ],
       "layout": {
        "barmode": "relative",
        "legend": {
         "tracegroupgap": 0
        },
        "margin": {
         "t": 60
        },
        "template": {
         "data": {
          "bar": [
           {
            "error_x": {
             "color": "#2a3f5f"
            },
            "error_y": {
             "color": "#2a3f5f"
            },
            "marker": {
             "line": {
              "color": "#E5ECF6",
              "width": 0.5
             },
             "pattern": {
              "fillmode": "overlay",
              "size": 10,
              "solidity": 0.2
             }
            },
            "type": "bar"
           }
          ],
          "barpolar": [
           {
            "marker": {
             "line": {
              "color": "#E5ECF6",
              "width": 0.5
             },
             "pattern": {
              "fillmode": "overlay",
              "size": 10,
              "solidity": 0.2
             }
            },
            "type": "barpolar"
           }
          ],
          "carpet": [
           {
            "aaxis": {
             "endlinecolor": "#2a3f5f",
             "gridcolor": "white",
             "linecolor": "white",
             "minorgridcolor": "white",
             "startlinecolor": "#2a3f5f"
            },
            "baxis": {
             "endlinecolor": "#2a3f5f",
             "gridcolor": "white",
             "linecolor": "white",
             "minorgridcolor": "white",
             "startlinecolor": "#2a3f5f"
            },
            "type": "carpet"
           }
          ],
          "choropleth": [
           {
            "colorbar": {
             "outlinewidth": 0,
             "ticks": ""
            },
            "type": "choropleth"
           }
          ],
          "contour": [
           {
            "colorbar": {
             "outlinewidth": 0,
             "ticks": ""
            },
            "colorscale": [
             [
              0,
              "#0d0887"
             ],
             [
              0.1111111111111111,
              "#46039f"
             ],
             [
              0.2222222222222222,
              "#7201a8"
             ],
             [
              0.3333333333333333,
              "#9c179e"
             ],
             [
              0.4444444444444444,
              "#bd3786"
             ],
             [
              0.5555555555555556,
              "#d8576b"
             ],
             [
              0.6666666666666666,
              "#ed7953"
             ],
             [
              0.7777777777777778,
              "#fb9f3a"
             ],
             [
              0.8888888888888888,
              "#fdca26"
             ],
             [
              1,
              "#f0f921"
             ]
            ],
            "type": "contour"
           }
          ],
          "contourcarpet": [
           {
            "colorbar": {
             "outlinewidth": 0,
             "ticks": ""
            },
            "type": "contourcarpet"
           }
          ],
          "heatmap": [
           {
            "colorbar": {
             "outlinewidth": 0,
             "ticks": ""
            },
            "colorscale": [
             [
              0,
              "#0d0887"
             ],
             [
              0.1111111111111111,
              "#46039f"
             ],
             [
              0.2222222222222222,
              "#7201a8"
             ],
             [
              0.3333333333333333,
              "#9c179e"
             ],
             [
              0.4444444444444444,
              "#bd3786"
             ],
             [
              0.5555555555555556,
              "#d8576b"
             ],
             [
              0.6666666666666666,
              "#ed7953"
             ],
             [
              0.7777777777777778,
              "#fb9f3a"
             ],
             [
              0.8888888888888888,
              "#fdca26"
             ],
             [
              1,
              "#f0f921"
             ]
            ],
            "type": "heatmap"
           }
          ],
          "heatmapgl": [
           {
            "colorbar": {
             "outlinewidth": 0,
             "ticks": ""
            },
            "colorscale": [
             [
              0,
              "#0d0887"
             ],
             [
              0.1111111111111111,
              "#46039f"
             ],
             [
              0.2222222222222222,
              "#7201a8"
             ],
             [
              0.3333333333333333,
              "#9c179e"
             ],
             [
              0.4444444444444444,
              "#bd3786"
             ],
             [
              0.5555555555555556,
              "#d8576b"
             ],
             [
              0.6666666666666666,
              "#ed7953"
             ],
             [
              0.7777777777777778,
              "#fb9f3a"
             ],
             [
              0.8888888888888888,
              "#fdca26"
             ],
             [
              1,
              "#f0f921"
             ]
            ],
            "type": "heatmapgl"
           }
          ],
          "histogram": [
           {
            "marker": {
             "pattern": {
              "fillmode": "overlay",
              "size": 10,
              "solidity": 0.2
             }
            },
            "type": "histogram"
           }
          ],
          "histogram2d": [
           {
            "colorbar": {
             "outlinewidth": 0,
             "ticks": ""
            },
            "colorscale": [
             [
              0,
              "#0d0887"
             ],
             [
              0.1111111111111111,
              "#46039f"
             ],
             [
              0.2222222222222222,
              "#7201a8"
             ],
             [
              0.3333333333333333,
              "#9c179e"
             ],
             [
              0.4444444444444444,
              "#bd3786"
             ],
             [
              0.5555555555555556,
              "#d8576b"
             ],
             [
              0.6666666666666666,
              "#ed7953"
             ],
             [
              0.7777777777777778,
              "#fb9f3a"
             ],
             [
              0.8888888888888888,
              "#fdca26"
             ],
             [
              1,
              "#f0f921"
             ]
            ],
            "type": "histogram2d"
           }
          ],
          "histogram2dcontour": [
           {
            "colorbar": {
             "outlinewidth": 0,
             "ticks": ""
            },
            "colorscale": [
             [
              0,
              "#0d0887"
             ],
             [
              0.1111111111111111,
              "#46039f"
             ],
             [
              0.2222222222222222,
              "#7201a8"
             ],
             [
              0.3333333333333333,
              "#9c179e"
             ],
             [
              0.4444444444444444,
              "#bd3786"
             ],
             [
              0.5555555555555556,
              "#d8576b"
             ],
             [
              0.6666666666666666,
              "#ed7953"
             ],
             [
              0.7777777777777778,
              "#fb9f3a"
             ],
             [
              0.8888888888888888,
              "#fdca26"
             ],
             [
              1,
              "#f0f921"
             ]
            ],
            "type": "histogram2dcontour"
           }
          ],
          "mesh3d": [
           {
            "colorbar": {
             "outlinewidth": 0,
             "ticks": ""
            },
            "type": "mesh3d"
           }
          ],
          "parcoords": [
           {
            "line": {
             "colorbar": {
              "outlinewidth": 0,
              "ticks": ""
             }
            },
            "type": "parcoords"
           }
          ],
          "pie": [
           {
            "automargin": true,
            "type": "pie"
           }
          ],
          "scatter": [
           {
            "fillpattern": {
             "fillmode": "overlay",
             "size": 10,
             "solidity": 0.2
            },
            "type": "scatter"
           }
          ],
          "scatter3d": [
           {
            "line": {
             "colorbar": {
              "outlinewidth": 0,
              "ticks": ""
             }
            },
            "marker": {
             "colorbar": {
              "outlinewidth": 0,
              "ticks": ""
             }
            },
            "type": "scatter3d"
           }
          ],
          "scattercarpet": [
           {
            "marker": {
             "colorbar": {
              "outlinewidth": 0,
              "ticks": ""
             }
            },
            "type": "scattercarpet"
           }
          ],
          "scattergeo": [
           {
            "marker": {
             "colorbar": {
              "outlinewidth": 0,
              "ticks": ""
             }
            },
            "type": "scattergeo"
           }
          ],
          "scattergl": [
           {
            "marker": {
             "colorbar": {
              "outlinewidth": 0,
              "ticks": ""
             }
            },
            "type": "scattergl"
           }
          ],
          "scattermapbox": [
           {
            "marker": {
             "colorbar": {
              "outlinewidth": 0,
              "ticks": ""
             }
            },
            "type": "scattermapbox"
           }
          ],
          "scatterpolar": [
           {
            "marker": {
             "colorbar": {
              "outlinewidth": 0,
              "ticks": ""
             }
            },
            "type": "scatterpolar"
           }
          ],
          "scatterpolargl": [
           {
            "marker": {
             "colorbar": {
              "outlinewidth": 0,
              "ticks": ""
             }
            },
            "type": "scatterpolargl"
           }
          ],
          "scatterternary": [
           {
            "marker": {
             "colorbar": {
              "outlinewidth": 0,
              "ticks": ""
             }
            },
            "type": "scatterternary"
           }
          ],
          "surface": [
           {
            "colorbar": {
             "outlinewidth": 0,
             "ticks": ""
            },
            "colorscale": [
             [
              0,
              "#0d0887"
             ],
             [
              0.1111111111111111,
              "#46039f"
             ],
             [
              0.2222222222222222,
              "#7201a8"
             ],
             [
              0.3333333333333333,
              "#9c179e"
             ],
             [
              0.4444444444444444,
              "#bd3786"
             ],
             [
              0.5555555555555556,
              "#d8576b"
             ],
             [
              0.6666666666666666,
              "#ed7953"
             ],
             [
              0.7777777777777778,
              "#fb9f3a"
             ],
             [
              0.8888888888888888,
              "#fdca26"
             ],
             [
              1,
              "#f0f921"
             ]
            ],
            "type": "surface"
           }
          ],
          "table": [
           {
            "cells": {
             "fill": {
              "color": "#EBF0F8"
             },
             "line": {
              "color": "white"
             }
            },
            "header": {
             "fill": {
              "color": "#C8D4E3"
             },
             "line": {
              "color": "white"
             }
            },
            "type": "table"
           }
          ]
         },
         "layout": {
          "annotationdefaults": {
           "arrowcolor": "#2a3f5f",
           "arrowhead": 0,
           "arrowwidth": 1
          },
          "autotypenumbers": "strict",
          "coloraxis": {
           "colorbar": {
            "outlinewidth": 0,
            "ticks": ""
           }
          },
          "colorscale": {
           "diverging": [
            [
             0,
             "#8e0152"
            ],
            [
             0.1,
             "#c51b7d"
            ],
            [
             0.2,
             "#de77ae"
            ],
            [
             0.3,
             "#f1b6da"
            ],
            [
             0.4,
             "#fde0ef"
            ],
            [
             0.5,
             "#f7f7f7"
            ],
            [
             0.6,
             "#e6f5d0"
            ],
            [
             0.7,
             "#b8e186"
            ],
            [
             0.8,
             "#7fbc41"
            ],
            [
             0.9,
             "#4d9221"
            ],
            [
             1,
             "#276419"
            ]
           ],
           "sequential": [
            [
             0,
             "#0d0887"
            ],
            [
             0.1111111111111111,
             "#46039f"
            ],
            [
             0.2222222222222222,
             "#7201a8"
            ],
            [
             0.3333333333333333,
             "#9c179e"
            ],
            [
             0.4444444444444444,
             "#bd3786"
            ],
            [
             0.5555555555555556,
             "#d8576b"
            ],
            [
             0.6666666666666666,
             "#ed7953"
            ],
            [
             0.7777777777777778,
             "#fb9f3a"
            ],
            [
             0.8888888888888888,
             "#fdca26"
            ],
            [
             1,
             "#f0f921"
            ]
           ],
           "sequentialminus": [
            [
             0,
             "#0d0887"
            ],
            [
             0.1111111111111111,
             "#46039f"
            ],
            [
             0.2222222222222222,
             "#7201a8"
            ],
            [
             0.3333333333333333,
             "#9c179e"
            ],
            [
             0.4444444444444444,
             "#bd3786"
            ],
            [
             0.5555555555555556,
             "#d8576b"
            ],
            [
             0.6666666666666666,
             "#ed7953"
            ],
            [
             0.7777777777777778,
             "#fb9f3a"
            ],
            [
             0.8888888888888888,
             "#fdca26"
            ],
            [
             1,
             "#f0f921"
            ]
           ]
          },
          "colorway": [
           "#636efa",
           "#EF553B",
           "#00cc96",
           "#ab63fa",
           "#FFA15A",
           "#19d3f3",
           "#FF6692",
           "#B6E880",
           "#FF97FF",
           "#FECB52"
          ],
          "font": {
           "color": "#2a3f5f"
          },
          "geo": {
           "bgcolor": "white",
           "lakecolor": "white",
           "landcolor": "#E5ECF6",
           "showlakes": true,
           "showland": true,
           "subunitcolor": "white"
          },
          "hoverlabel": {
           "align": "left"
          },
          "hovermode": "closest",
          "mapbox": {
           "style": "light"
          },
          "paper_bgcolor": "white",
          "plot_bgcolor": "#E5ECF6",
          "polar": {
           "angularaxis": {
            "gridcolor": "white",
            "linecolor": "white",
            "ticks": ""
           },
           "bgcolor": "#E5ECF6",
           "radialaxis": {
            "gridcolor": "white",
            "linecolor": "white",
            "ticks": ""
           }
          },
          "scene": {
           "xaxis": {
            "backgroundcolor": "#E5ECF6",
            "gridcolor": "white",
            "gridwidth": 2,
            "linecolor": "white",
            "showbackground": true,
            "ticks": "",
            "zerolinecolor": "white"
           },
           "yaxis": {
            "backgroundcolor": "#E5ECF6",
            "gridcolor": "white",
            "gridwidth": 2,
            "linecolor": "white",
            "showbackground": true,
            "ticks": "",
            "zerolinecolor": "white"
           },
           "zaxis": {
            "backgroundcolor": "#E5ECF6",
            "gridcolor": "white",
            "gridwidth": 2,
            "linecolor": "white",
            "showbackground": true,
            "ticks": "",
            "zerolinecolor": "white"
           }
          },
          "shapedefaults": {
           "line": {
            "color": "#2a3f5f"
           }
          },
          "ternary": {
           "aaxis": {
            "gridcolor": "white",
            "linecolor": "white",
            "ticks": ""
           },
           "baxis": {
            "gridcolor": "white",
            "linecolor": "white",
            "ticks": ""
           },
           "bgcolor": "#E5ECF6",
           "caxis": {
            "gridcolor": "white",
            "linecolor": "white",
            "ticks": ""
           }
          },
          "title": {
           "x": 0.05
          },
          "xaxis": {
           "automargin": true,
           "gridcolor": "white",
           "linecolor": "white",
           "ticks": "",
           "title": {
            "standoff": 15
           },
           "zerolinecolor": "white",
           "zerolinewidth": 2
          },
          "yaxis": {
           "automargin": true,
           "gridcolor": "white",
           "linecolor": "white",
           "ticks": "",
           "title": {
            "standoff": 15
           },
           "zerolinecolor": "white",
           "zerolinewidth": 2
          }
         }
        },
        "xaxis": {
         "anchor": "y",
         "domain": [
          0,
          1
         ],
         "title": {
          "text": "Number of Appearances"
         }
        },
        "yaxis": {
         "anchor": "x",
         "domain": [
          0,
          1
         ],
         "title": {
          "text": "name"
         }
        }
       }
      }
     },
     "metadata": {},
     "output_type": "display_data"
    }
   ],
   "source": [
    "top_actors(overlap)"
   ]
  },
  {
   "attachments": {},
   "cell_type": "markdown",
   "metadata": {},
   "source": [
    "5. language breakdown"
   ]
  },
  {
   "cell_type": "code",
   "execution_count": 71,
   "metadata": {},
   "outputs": [
    {
     "data": {
      "text/html": [
       "<div>\n",
       "<style scoped>\n",
       "    .dataframe tbody tr th:only-of-type {\n",
       "        vertical-align: middle;\n",
       "    }\n",
       "\n",
       "    .dataframe tbody tr th {\n",
       "        vertical-align: top;\n",
       "    }\n",
       "\n",
       "    .dataframe thead th {\n",
       "        text-align: right;\n",
       "    }\n",
       "</style>\n",
       "<table border=\"1\" class=\"dataframe\">\n",
       "  <thead>\n",
       "    <tr style=\"text-align: right;\">\n",
       "      <th></th>\n",
       "      <th>History</th>\n",
       "      <th>Date</th>\n",
       "      <th>Day</th>\n",
       "      <th>Month</th>\n",
       "      <th>Year</th>\n",
       "      <th>Day_of_week</th>\n",
       "      <th>Title</th>\n",
       "      <th>Season</th>\n",
       "      <th>Episode</th>\n",
       "      <th>Type</th>\n",
       "      <th>id</th>\n",
       "      <th>description</th>\n",
       "      <th>release_year</th>\n",
       "      <th>runtime</th>\n",
       "      <th>genres</th>\n",
       "      <th>imdb_score</th>\n",
       "      <th>imdb_votes</th>\n",
       "      <th>tmdb_score</th>\n",
       "    </tr>\n",
       "  </thead>\n",
       "  <tbody>\n",
       "    <tr>\n",
       "      <th>0</th>\n",
       "      <td>Delhi Belly</td>\n",
       "      <td>2022-04-08</td>\n",
       "      <td>8</td>\n",
       "      <td>4</td>\n",
       "      <td>2022</td>\n",
       "      <td>4</td>\n",
       "      <td>Delhi Belly</td>\n",
       "      <td>None</td>\n",
       "      <td>NaN</td>\n",
       "      <td>Movie</td>\n",
       "      <td>tm177258</td>\n",
       "      <td>Three unsuspecting, average guys find themselv...</td>\n",
       "      <td>2011</td>\n",
       "      <td>102</td>\n",
       "      <td>['comedy', 'action', 'crime', 'thriller']</td>\n",
       "      <td>7.5</td>\n",
       "      <td>29927.0</td>\n",
       "      <td>7.000</td>\n",
       "    </tr>\n",
       "    <tr>\n",
       "      <th>1</th>\n",
       "      <td>Most Eligible Bachelor</td>\n",
       "      <td>2021-11-24</td>\n",
       "      <td>24</td>\n",
       "      <td>11</td>\n",
       "      <td>2021</td>\n",
       "      <td>2</td>\n",
       "      <td>Most Eligible Bachelor</td>\n",
       "      <td>None</td>\n",
       "      <td>NaN</td>\n",
       "      <td>Movie</td>\n",
       "      <td>tm876997</td>\n",
       "      <td>Akhil and Pooja have a love story with a touch...</td>\n",
       "      <td>2021</td>\n",
       "      <td>170</td>\n",
       "      <td>['drama', 'romance']</td>\n",
       "      <td>6.1</td>\n",
       "      <td>3261.0</td>\n",
       "      <td>5.700</td>\n",
       "    </tr>\n",
       "    <tr>\n",
       "      <th>2</th>\n",
       "      <td>Better Call Saul: Season 5: Something Unforgiv...</td>\n",
       "      <td>2023-02-15</td>\n",
       "      <td>15</td>\n",
       "      <td>2</td>\n",
       "      <td>2023</td>\n",
       "      <td>2</td>\n",
       "      <td>Better Call Saul</td>\n",
       "      <td>5</td>\n",
       "      <td>Something Unforgivable</td>\n",
       "      <td>TV</td>\n",
       "      <td>ts8</td>\n",
       "      <td>Six years before Saul Goodman meets Walter Whi...</td>\n",
       "      <td>2015</td>\n",
       "      <td>49</td>\n",
       "      <td>['drama', 'crime']</td>\n",
       "      <td>8.8</td>\n",
       "      <td>438575.0</td>\n",
       "      <td>8.500</td>\n",
       "    </tr>\n",
       "    <tr>\n",
       "      <th>3</th>\n",
       "      <td>Better Call Saul: Season 5: Bad Choice Road</td>\n",
       "      <td>2023-02-15</td>\n",
       "      <td>15</td>\n",
       "      <td>2</td>\n",
       "      <td>2023</td>\n",
       "      <td>2</td>\n",
       "      <td>Better Call Saul</td>\n",
       "      <td>5</td>\n",
       "      <td>Bad Choice Road</td>\n",
       "      <td>TV</td>\n",
       "      <td>ts8</td>\n",
       "      <td>Six years before Saul Goodman meets Walter Whi...</td>\n",
       "      <td>2015</td>\n",
       "      <td>49</td>\n",
       "      <td>['drama', 'crime']</td>\n",
       "      <td>8.8</td>\n",
       "      <td>438575.0</td>\n",
       "      <td>8.500</td>\n",
       "    </tr>\n",
       "    <tr>\n",
       "      <th>4</th>\n",
       "      <td>Better Call Saul: Season 5: Bagman</td>\n",
       "      <td>2023-02-15</td>\n",
       "      <td>15</td>\n",
       "      <td>2</td>\n",
       "      <td>2023</td>\n",
       "      <td>2</td>\n",
       "      <td>Better Call Saul</td>\n",
       "      <td>5</td>\n",
       "      <td>Bagman</td>\n",
       "      <td>TV</td>\n",
       "      <td>ts8</td>\n",
       "      <td>Six years before Saul Goodman meets Walter Whi...</td>\n",
       "      <td>2015</td>\n",
       "      <td>49</td>\n",
       "      <td>['drama', 'crime']</td>\n",
       "      <td>8.8</td>\n",
       "      <td>438575.0</td>\n",
       "      <td>8.500</td>\n",
       "    </tr>\n",
       "    <tr>\n",
       "      <th>...</th>\n",
       "      <td>...</td>\n",
       "      <td>...</td>\n",
       "      <td>...</td>\n",
       "      <td>...</td>\n",
       "      <td>...</td>\n",
       "      <td>...</td>\n",
       "      <td>...</td>\n",
       "      <td>...</td>\n",
       "      <td>...</td>\n",
       "      <td>...</td>\n",
       "      <td>...</td>\n",
       "      <td>...</td>\n",
       "      <td>...</td>\n",
       "      <td>...</td>\n",
       "      <td>...</td>\n",
       "      <td>...</td>\n",
       "      <td>...</td>\n",
       "      <td>...</td>\n",
       "    </tr>\n",
       "    <tr>\n",
       "      <th>265</th>\n",
       "      <td>Breaking Bad: Season 1: The Cat's in the Bag</td>\n",
       "      <td>2022-03-15</td>\n",
       "      <td>15</td>\n",
       "      <td>3</td>\n",
       "      <td>2022</td>\n",
       "      <td>1</td>\n",
       "      <td>Breaking Bad</td>\n",
       "      <td>1</td>\n",
       "      <td>The Cat's in the Bag</td>\n",
       "      <td>TV</td>\n",
       "      <td>ts4</td>\n",
       "      <td>When Walter White, a New Mexico chemistry teac...</td>\n",
       "      <td>2008</td>\n",
       "      <td>48</td>\n",
       "      <td>['drama', 'crime', 'thriller']</td>\n",
       "      <td>9.5</td>\n",
       "      <td>1775990.0</td>\n",
       "      <td>8.790</td>\n",
       "    </tr>\n",
       "    <tr>\n",
       "      <th>266</th>\n",
       "      <td>Breaking Bad: Season 1: Pilot</td>\n",
       "      <td>2022-03-15</td>\n",
       "      <td>15</td>\n",
       "      <td>3</td>\n",
       "      <td>2022</td>\n",
       "      <td>1</td>\n",
       "      <td>Breaking Bad</td>\n",
       "      <td>1</td>\n",
       "      <td>Pilot</td>\n",
       "      <td>TV</td>\n",
       "      <td>ts4</td>\n",
       "      <td>When Walter White, a New Mexico chemistry teac...</td>\n",
       "      <td>2008</td>\n",
       "      <td>48</td>\n",
       "      <td>['drama', 'crime', 'thriller']</td>\n",
       "      <td>9.5</td>\n",
       "      <td>1775990.0</td>\n",
       "      <td>8.790</td>\n",
       "    </tr>\n",
       "    <tr>\n",
       "      <th>267</th>\n",
       "      <td>Squid Game: Season 1: One Lucky Day</td>\n",
       "      <td>2021-11-21</td>\n",
       "      <td>21</td>\n",
       "      <td>11</td>\n",
       "      <td>2021</td>\n",
       "      <td>6</td>\n",
       "      <td>Squid Game</td>\n",
       "      <td>1</td>\n",
       "      <td>One Lucky Day</td>\n",
       "      <td>TV</td>\n",
       "      <td>ts220305</td>\n",
       "      <td>Hundreds of cash-strapped players accept a str...</td>\n",
       "      <td>2021</td>\n",
       "      <td>55</td>\n",
       "      <td>['action', 'thriller', 'drama']</td>\n",
       "      <td>8.0</td>\n",
       "      <td>426967.0</td>\n",
       "      <td>7.821</td>\n",
       "    </tr>\n",
       "    <tr>\n",
       "      <th>268</th>\n",
       "      <td>Squid Game: Season 1: VIPS</td>\n",
       "      <td>2021-11-18</td>\n",
       "      <td>18</td>\n",
       "      <td>11</td>\n",
       "      <td>2021</td>\n",
       "      <td>3</td>\n",
       "      <td>Squid Game</td>\n",
       "      <td>1</td>\n",
       "      <td>VIPS</td>\n",
       "      <td>TV</td>\n",
       "      <td>ts220305</td>\n",
       "      <td>Hundreds of cash-strapped players accept a str...</td>\n",
       "      <td>2021</td>\n",
       "      <td>55</td>\n",
       "      <td>['action', 'thriller', 'drama']</td>\n",
       "      <td>8.0</td>\n",
       "      <td>426967.0</td>\n",
       "      <td>7.821</td>\n",
       "    </tr>\n",
       "    <tr>\n",
       "      <th>269</th>\n",
       "      <td>Squid Game: Season 1: Gganbu</td>\n",
       "      <td>2021-11-18</td>\n",
       "      <td>18</td>\n",
       "      <td>11</td>\n",
       "      <td>2021</td>\n",
       "      <td>3</td>\n",
       "      <td>Squid Game</td>\n",
       "      <td>1</td>\n",
       "      <td>Gganbu</td>\n",
       "      <td>TV</td>\n",
       "      <td>ts220305</td>\n",
       "      <td>Hundreds of cash-strapped players accept a str...</td>\n",
       "      <td>2021</td>\n",
       "      <td>55</td>\n",
       "      <td>['action', 'thriller', 'drama']</td>\n",
       "      <td>8.0</td>\n",
       "      <td>426967.0</td>\n",
       "      <td>7.821</td>\n",
       "    </tr>\n",
       "  </tbody>\n",
       "</table>\n",
       "<p>270 rows × 18 columns</p>\n",
       "</div>"
      ],
      "text/plain": [
       "                                               History       Date  Day  Month  \\\n",
       "0                                          Delhi Belly 2022-04-08    8      4   \n",
       "1                               Most Eligible Bachelor 2021-11-24   24     11   \n",
       "2    Better Call Saul: Season 5: Something Unforgiv... 2023-02-15   15      2   \n",
       "3          Better Call Saul: Season 5: Bad Choice Road 2023-02-15   15      2   \n",
       "4                   Better Call Saul: Season 5: Bagman 2023-02-15   15      2   \n",
       "..                                                 ...        ...  ...    ...   \n",
       "265       Breaking Bad: Season 1: The Cat's in the Bag 2022-03-15   15      3   \n",
       "266                      Breaking Bad: Season 1: Pilot 2022-03-15   15      3   \n",
       "267                Squid Game: Season 1: One Lucky Day 2021-11-21   21     11   \n",
       "268                         Squid Game: Season 1: VIPS 2021-11-18   18     11   \n",
       "269                       Squid Game: Season 1: Gganbu 2021-11-18   18     11   \n",
       "\n",
       "     Year  Day_of_week                   Title Season                 Episode  \\\n",
       "0    2022            4             Delhi Belly   None                     NaN   \n",
       "1    2021            2  Most Eligible Bachelor   None                     NaN   \n",
       "2    2023            2        Better Call Saul      5  Something Unforgivable   \n",
       "3    2023            2        Better Call Saul      5         Bad Choice Road   \n",
       "4    2023            2        Better Call Saul      5                  Bagman   \n",
       "..    ...          ...                     ...    ...                     ...   \n",
       "265  2022            1            Breaking Bad      1    The Cat's in the Bag   \n",
       "266  2022            1            Breaking Bad      1                   Pilot   \n",
       "267  2021            6              Squid Game      1           One Lucky Day   \n",
       "268  2021            3              Squid Game      1                    VIPS   \n",
       "269  2021            3              Squid Game      1                  Gganbu   \n",
       "\n",
       "      Type        id                                        description  \\\n",
       "0    Movie  tm177258  Three unsuspecting, average guys find themselv...   \n",
       "1    Movie  tm876997  Akhil and Pooja have a love story with a touch...   \n",
       "2       TV       ts8  Six years before Saul Goodman meets Walter Whi...   \n",
       "3       TV       ts8  Six years before Saul Goodman meets Walter Whi...   \n",
       "4       TV       ts8  Six years before Saul Goodman meets Walter Whi...   \n",
       "..     ...       ...                                                ...   \n",
       "265     TV       ts4  When Walter White, a New Mexico chemistry teac...   \n",
       "266     TV       ts4  When Walter White, a New Mexico chemistry teac...   \n",
       "267     TV  ts220305  Hundreds of cash-strapped players accept a str...   \n",
       "268     TV  ts220305  Hundreds of cash-strapped players accept a str...   \n",
       "269     TV  ts220305  Hundreds of cash-strapped players accept a str...   \n",
       "\n",
       "     release_year  runtime                                     genres  \\\n",
       "0            2011      102  ['comedy', 'action', 'crime', 'thriller']   \n",
       "1            2021      170                       ['drama', 'romance']   \n",
       "2            2015       49                         ['drama', 'crime']   \n",
       "3            2015       49                         ['drama', 'crime']   \n",
       "4            2015       49                         ['drama', 'crime']   \n",
       "..            ...      ...                                        ...   \n",
       "265          2008       48             ['drama', 'crime', 'thriller']   \n",
       "266          2008       48             ['drama', 'crime', 'thriller']   \n",
       "267          2021       55            ['action', 'thriller', 'drama']   \n",
       "268          2021       55            ['action', 'thriller', 'drama']   \n",
       "269          2021       55            ['action', 'thriller', 'drama']   \n",
       "\n",
       "     imdb_score  imdb_votes  tmdb_score  \n",
       "0           7.5     29927.0       7.000  \n",
       "1           6.1      3261.0       5.700  \n",
       "2           8.8    438575.0       8.500  \n",
       "3           8.8    438575.0       8.500  \n",
       "4           8.8    438575.0       8.500  \n",
       "..          ...         ...         ...  \n",
       "265         9.5   1775990.0       8.790  \n",
       "266         9.5   1775990.0       8.790  \n",
       "267         8.0    426967.0       7.821  \n",
       "268         8.0    426967.0       7.821  \n",
       "269         8.0    426967.0       7.821  \n",
       "\n",
       "[270 rows x 18 columns]"
      ]
     },
     "execution_count": 71,
     "metadata": {},
     "output_type": "execute_result"
    }
   ],
   "source": [
    "df1"
   ]
  },
  {
   "cell_type": "markdown",
   "metadata": {},
   "source": []
  }
 ],
 "metadata": {
  "kernelspec": {
   "display_name": "PIC16B",
   "language": "python",
   "name": "python3"
  },
  "language_info": {
   "codemirror_mode": {
    "name": "ipython",
    "version": 3
   },
   "file_extension": ".py",
   "mimetype": "text/x-python",
   "name": "python",
   "nbconvert_exporter": "python",
   "pygments_lexer": "ipython3",
   "version": "3.8.15"
  },
  "vscode": {
   "interpreter": {
    "hash": "4f17a0bda26eb5e2a7d200f507fab51eca08275c26292a49dc4c99ff8d55a36f"
   }
  }
 },
 "nbformat": 4,
 "nbformat_minor": 4
}
