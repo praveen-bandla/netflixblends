{
 "cells": [
  {
   "cell_type": "code",
   "execution_count": 1,
   "metadata": {},
   "outputs": [],
   "source": [
    "import pandas as pd\n",
    "import numpy as np"
   ]
  },
  {
   "cell_type": "code",
   "execution_count": 2,
   "metadata": {},
   "outputs": [],
   "source": [
    "df = pd.read_csv(\"movies.csv\")\n",
    "df1 = pd.read_csv(\"TV.csv\")"
   ]
  },
  {
   "cell_type": "markdown",
   "metadata": {},
   "source": [
    "# Concatenate and Drop irrelevant columns"
   ]
  },
  {
   "cell_type": "code",
   "execution_count": 3,
   "metadata": {},
   "outputs": [],
   "source": [
    "df = pd.concat([df, df1], ignore_index = True)"
   ]
  },
  {
   "cell_type": "code",
   "execution_count": 4,
   "metadata": {},
   "outputs": [],
   "source": [
    "df = df.drop(['quality', 'netflixid', 'date_released', 'image_portrait', 'image_landscape'], axis = 1)"
   ]
  },
  {
   "cell_type": "code",
   "execution_count": 5,
   "metadata": {},
   "outputs": [
    {
     "data": {
      "text/html": [
       "<div>\n",
       "<style scoped>\n",
       "    .dataframe tbody tr th:only-of-type {\n",
       "        vertical-align: middle;\n",
       "    }\n",
       "\n",
       "    .dataframe tbody tr th {\n",
       "        vertical-align: top;\n",
       "    }\n",
       "\n",
       "    .dataframe thead th {\n",
       "        text-align: right;\n",
       "    }\n",
       "</style>\n",
       "<table border=\"1\" class=\"dataframe\">\n",
       "  <thead>\n",
       "    <tr style=\"text-align: right;\">\n",
       "      <th></th>\n",
       "      <th>title</th>\n",
       "      <th>type</th>\n",
       "      <th>titlereleased</th>\n",
       "      <th>rating</th>\n",
       "      <th>actors</th>\n",
       "      <th>director</th>\n",
       "      <th>category</th>\n",
       "      <th>imdb</th>\n",
       "      <th>runtime</th>\n",
       "      <th>description</th>\n",
       "      <th>language</th>\n",
       "    </tr>\n",
       "  </thead>\n",
       "  <tbody>\n",
       "    <tr>\n",
       "      <th>0</th>\n",
       "      <td>#Alive</td>\n",
       "      <td>Movie</td>\n",
       "      <td>2020</td>\n",
       "      <td>TV-MA</td>\n",
       "      <td>Yoo Ah-in, Park Shin-hye</td>\n",
       "      <td>Cho Il</td>\n",
       "      <td>Horror, Zombie, Korean</td>\n",
       "      <td>6.2/10</td>\n",
       "      <td>98 mins</td>\n",
       "      <td>As a grisly virus rampages a city, a lone man ...</td>\n",
       "      <td>Korean</td>\n",
       "    </tr>\n",
       "    <tr>\n",
       "      <th>1</th>\n",
       "      <td>#AnneFrank - Parallel Stories</td>\n",
       "      <td>Movie</td>\n",
       "      <td>2019</td>\n",
       "      <td>TV-14</td>\n",
       "      <td>Helen Mirren, Gengher Gatti</td>\n",
       "      <td>Sabina Fedeli, Anna Migotto</td>\n",
       "      <td>Documentary</td>\n",
       "      <td>NaN</td>\n",
       "      <td>94 mins</td>\n",
       "      <td>Through her diary, Anne Frank's story is retol...</td>\n",
       "      <td>English</td>\n",
       "    </tr>\n",
       "    <tr>\n",
       "      <th>2</th>\n",
       "      <td>#FriendButMarried</td>\n",
       "      <td>Movie</td>\n",
       "      <td>2018</td>\n",
       "      <td>TV-G</td>\n",
       "      <td>Adipati Dolken, Vanesha Prescilla, Refal Hady,...</td>\n",
       "      <td>Rako Prijanto</td>\n",
       "      <td>Biography, Drama</td>\n",
       "      <td>7.1/10</td>\n",
       "      <td>102 min</td>\n",
       "      <td>Pining for his high school crush for years, a ...</td>\n",
       "      <td>Indonesian</td>\n",
       "    </tr>\n",
       "    <tr>\n",
       "      <th>3</th>\n",
       "      <td>#FriendButMarried 2</td>\n",
       "      <td>Movie</td>\n",
       "      <td>2020</td>\n",
       "      <td>TV-G</td>\n",
       "      <td>Adipati Dolken, Mawar Eva de Jongh, Vonny Corn...</td>\n",
       "      <td>Rako Prijanto</td>\n",
       "      <td>Biography, Drama, Romance</td>\n",
       "      <td>NaN</td>\n",
       "      <td>104 mins</td>\n",
       "      <td>As Ayu and Ditto finally transition from best ...</td>\n",
       "      <td>Indonesian</td>\n",
       "    </tr>\n",
       "    <tr>\n",
       "      <th>4</th>\n",
       "      <td>#realityhigh</td>\n",
       "      <td>Movie</td>\n",
       "      <td>2017</td>\n",
       "      <td>TV-14</td>\n",
       "      <td>Nesta Cooper, Kate Walsh, John Michael Higgins...</td>\n",
       "      <td>Fernando Lebrija</td>\n",
       "      <td>NaN</td>\n",
       "      <td>5.2/10</td>\n",
       "      <td>99 minutes</td>\n",
       "      <td>When nerdy high schooler Dani finally attracts...</td>\n",
       "      <td>English</td>\n",
       "    </tr>\n",
       "  </tbody>\n",
       "</table>\n",
       "</div>"
      ],
      "text/plain": [
       "                            title   type titlereleased rating  \\\n",
       "0                         #Alive   Movie          2020  TV-MA   \n",
       "1  #AnneFrank - Parallel Stories   Movie          2019  TV-14   \n",
       "2              #FriendButMarried   Movie          2018   TV-G   \n",
       "3            #FriendButMarried 2   Movie          2020   TV-G   \n",
       "4                    #realityhigh  Movie          2017  TV-14   \n",
       "\n",
       "                                              actors  \\\n",
       "0                           Yoo Ah-in, Park Shin-hye   \n",
       "1                        Helen Mirren, Gengher Gatti   \n",
       "2  Adipati Dolken, Vanesha Prescilla, Refal Hady,...   \n",
       "3  Adipati Dolken, Mawar Eva de Jongh, Vonny Corn...   \n",
       "4  Nesta Cooper, Kate Walsh, John Michael Higgins...   \n",
       "\n",
       "                      director                   category    imdb     runtime  \\\n",
       "0                       Cho Il     Horror, Zombie, Korean  6.2/10     98 mins   \n",
       "1  Sabina Fedeli, Anna Migotto                Documentary     NaN     94 mins   \n",
       "2                Rako Prijanto           Biography, Drama  7.1/10     102 min   \n",
       "3                Rako Prijanto  Biography, Drama, Romance     NaN    104 mins   \n",
       "4             Fernando Lebrija                        NaN  5.2/10  99 minutes   \n",
       "\n",
       "                                         description    language  \n",
       "0  As a grisly virus rampages a city, a lone man ...      Korean  \n",
       "1  Through her diary, Anne Frank's story is retol...     English  \n",
       "2  Pining for his high school crush for years, a ...  Indonesian  \n",
       "3  As Ayu and Ditto finally transition from best ...  Indonesian  \n",
       "4  When nerdy high schooler Dani finally attracts...     English  "
      ]
     },
     "execution_count": 5,
     "metadata": {},
     "output_type": "execute_result"
    }
   ],
   "source": [
    "df.head()"
   ]
  },
  {
   "cell_type": "markdown",
   "metadata": {},
   "source": [
    "# Split Actors, Directors, and Categories"
   ]
  },
  {
   "cell_type": "code",
   "execution_count": 6,
   "metadata": {},
   "outputs": [],
   "source": [
    "# actor split\n",
    "split_df = df['actors'].str.split(pat = \", \", expand = True)\n",
    "actor_col_list = ['actor_' + str(i) for i in range(len(split_df.columns))]\n",
    "split_df.columns = actor_col_list\n",
    "df = pd.concat([df, split_df], axis = 1)"
   ]
  },
  {
   "cell_type": "code",
   "execution_count": 7,
   "metadata": {},
   "outputs": [],
   "source": [
    "# director split\n",
    "split_df = df['director'].str.split(pat = \", \", expand = True)\n",
    "director_col_list = ['director_' + str(i) for i in range(len(split_df.columns))]\n",
    "split_df.columns = director_col_list\n",
    "df = pd.concat([df, split_df], axis = 1)"
   ]
  },
  {
   "cell_type": "code",
   "execution_count": 8,
   "metadata": {},
   "outputs": [],
   "source": [
    "# category split\n",
    "split_df = df['category'].str.split(pat = \", \", expand = True)\n",
    "category_col_list = ['category_' + str(i) for i in range(len(split_df.columns))]\n",
    "split_df.columns = category_col_list\n",
    "df = pd.concat([df, split_df], axis = 1)"
   ]
  },
  {
   "cell_type": "markdown",
   "metadata": {},
   "source": [
    "# IMBD Score"
   ]
  },
  {
   "cell_type": "code",
   "execution_count": 9,
   "metadata": {},
   "outputs": [],
   "source": [
    "df['imdb'] = df['imdb'].str.split('/').str[0]\n",
    "df['imdb'] = df['imdb'].replace('N', np.nan)\n",
    "df['imdb'] = df['imdb'].replace('0', np.nan)"
   ]
  },
  {
   "cell_type": "markdown",
   "metadata": {},
   "source": [
    "Looks like a few of the supposed imdb scores are instead rotten tomatoes scores. I will manually replace scores"
   ]
  },
  {
   "cell_type": "code",
   "execution_count": 10,
   "metadata": {},
   "outputs": [],
   "source": [
    "df['imdb'] = df['imdb'].replace('0.58', '6.9') # a knight's tale\n",
    "df['imdb'] = df['imdb'].replace('0.92', '6.9') # funan\n",
    "df['imdb'] = df['imdb'].replace('0.64', '6.9') # the addams family (1991)\n",
    "df['imdb'] = df['imdb'].replace('0.19', '6.4') # the ottoman lieutenant"
   ]
  },
  {
   "cell_type": "code",
   "execution_count": 11,
   "metadata": {},
   "outputs": [],
   "source": [
    "df['imdb'] = df['imdb'].astype(float)"
   ]
  },
  {
   "cell_type": "markdown",
   "metadata": {},
   "source": [
    "## Runtime\n",
    "\n",
    "Seems like a fair amount of work, so let's only do this if we're sure we will use this column."
   ]
  },
  {
   "cell_type": "code",
   "execution_count": 12,
   "metadata": {
    "scrolled": false
   },
   "outputs": [
    {
     "data": {
      "text/plain": [
       "array(['98 mins', '94 mins', '102 min', '104 mins', '99 minutes',\n",
       "       '148 minutes', '82 min', '108 minutes', '44 minutes', '100 mins',\n",
       "       '111 min', '95 min', '92 min', '130 min', '105 mins', '91 min',\n",
       "       '100 minutes', '36 minutes', '101 min', '124 minutes', '114 mins',\n",
       "       '102 minutes', '90 min', '117 min', '119 min', '122 minutes',\n",
       "       '99 min', '109 min', '144 minutes', '112 min', '163 minutes',\n",
       "       '15 min', '83 min', '103 min', '111 mins', '115 minutes',\n",
       "       '92 mins', '81 min', '98 min', '105 minutes', '119 mins',\n",
       "       '95 minutes', '75 minutes', '128 minutes', '100 min', '77 minutes',\n",
       "       '147 minutes', '93 min', '89 min', '28 minutes', '94 min',\n",
       "       '104 minutes', '106 min', '95 mins', '123 min', '87 min',\n",
       "       '92 minutes', '85 minutes', '93 minutes', '21 minutes',\n",
       "       '86 minutes', '136 minutes', '107 mins', '60 mins', '67 minutes',\n",
       "       '120 minutes', '136 min', '29 minutes', '101 mins', '30 mins',\n",
       "       '167 minutes', '101 minutes', '28 mins', '91 minutes', '127 min',\n",
       "       '132 min', '97 minutes', '19 min', '117 minutes', '105 min',\n",
       "       '30 min', '135 min', '108 min', '121 min', '87 mins', '89 mins',\n",
       "       '57 mins', '129 minutes', '82 minutes', '96 minutes', '120 min',\n",
       "       '2 min', '94 minutes', '25 minutes', '12 mins', '156 minutes',\n",
       "       '21 mins', '20 mins', '79 min', '98 minutes', '84 min',\n",
       "       '56 minutes', '114 min', '81 mins', '107 min', '165 mins',\n",
       "       '121 minutes', '153 minutes', '109 minutes', '90 minutes',\n",
       "       '87 minutes', '103 mins', '58 mins', '58 minutes', '73 minutes',\n",
       "       '62 minutes', '153 min', '89 minutes', '63 min', '88 min',\n",
       "       '96 min', '37 minutes', '22 minutes', '174 minutes', '60 minutes',\n",
       "       '85 min', '84 mins', '124 min', '158 minutes', '151 minutes',\n",
       "       '142 min', '133 min', '161 minutes', '103 minutes', '49 mins',\n",
       "       '53 minutes', '83 mins', '88 minutes', '51 minutes', '114 minutes',\n",
       "       '59 mins', '64 minutes', '146 minutes', '40 min', '76 mins',\n",
       "       '118 min', '40 minutes', '147 min', '74 minutes', '106 mins',\n",
       "       '110 minutes', '10 minutes', '115 min', '72 minutes', '6 min',\n",
       "       '57 minutes', '26 min', '71 min', '116 minutes', '145 min',\n",
       "       '160 min', '137 minutes', '171 mins', '30 minutes', '47 min',\n",
       "       '138 minutes', '15 minutes', '16 min', '130 minutes', '170 min',\n",
       "       '63 minutes', '110 min', '163 min', '150 min', '59 minutes',\n",
       "       '150 minutes', '97 min', '54 min', '97 mins', '148 min',\n",
       "       '125 minutes', '106 minutes', '122 min', '168 minutes', '117 mins',\n",
       "       '99 mins', '58 min', '39 min', '86 min', '161 min', '158 min',\n",
       "       '38 mins', '24 min', '112 minutes', '29 mins', '65 minutes',\n",
       "       '13 min', '61 mins', '134 minutes', '127 minutes', '165 minutes',\n",
       "       '166 minutes', '159 minutes', '126 minutes', '83 minutes',\n",
       "       '140 minutes', '77 min', nan, '63 mins', '136 mins', '65 mins',\n",
       "       '72 mins', '131 minutes', '159 min', '76 min', '88 mins',\n",
       "       '155 min', '50 minutes', '118 minutes', '17 mins', '70 minutes',\n",
       "       '55 minutes', '126 min', '149 minutes', '143 min', '68 minutes',\n",
       "       '34 minutes', '80 minutes', '132 minutes', '137 mins', '2 minutes',\n",
       "       '96 mins', '35 mins', '39 mins', '40 mins', '167 mins',\n",
       "       '143 minutes', '113 minutes', '123 minutes', '118 mins',\n",
       "       '69 minutes', '50 mins', '73 mins', '76 minutes', '61 minutes',\n",
       "       '80 min', '108 mins', '102 mins', '155 minutes', '129 min',\n",
       "       '13 minutes', '135 minutes', '34 min', '119 minutes', '9 mins',\n",
       "       '134 min', '1 minutes', '45 min', '142 minutes', '82 mins',\n",
       "       '66 mins', '81 minutes', '16 min / 76 mins', '162 min', '55 mins',\n",
       "       '36 mins', '68 mins', '64 mins', '65 min', '67 min', '69 min',\n",
       "       '62 mins', '62 min', '67 mins', '75 min', '25 min', '112 mins',\n",
       "       '50 min', '24 mins', '151 min', '113 min', '111 minutes',\n",
       "       '34 mins', '42 mins', '12 minutes', '66 minutes', '14 mins',\n",
       "       '60 min', '154 min', '37 mins', '175 min', '137 min', '54 minutes',\n",
       "       '125 min', '125 mins', '78 mins', '66 min', '109 mins', '113 mins',\n",
       "       '104 min', '70 mins', '172 min', '141 min', '183 min',\n",
       "       '49 minutes', '78 minutes', '180 min', '107 minutes', '138 min',\n",
       "       '120 mins', '55 min', '165 min', '85 mins', '141 minutes',\n",
       "       '69 mins', '26 minutes', '46 minutes', '46 min', '45 minutes',\n",
       "       '162 minutes', '169 minutes', '164 minutes', '156 min', '74 mins',\n",
       "       '79 minutes', '133 minutes', '127 mins', '84 minutes',\n",
       "       '52 minutes', '47 mins', '28 min', '26 mins', '10 mins',\n",
       "       '130 mins', '15 mins', '51 min', '31 min', '123 mins',\n",
       "       '24 minutes', '32 minutes', '157 minutes', '74 min', '91 mins',\n",
       "       '79 mins', '116 min', '11 min', '4 episodes', '56 min', '139 min',\n",
       "       '157 min', '152 min', '93 mins', '42 minutes', '155 mins',\n",
       "       '128 mins', '80 mins', '78 min', '154 minutes', '72 min',\n",
       "       '178 minutes', '19 mins', '39 minutes', '56 mins', '179 min',\n",
       "       '68 min', '139 minutes', '128 min', '71 minutes', '90 mins',\n",
       "       '116 mins', '59 min', '16 mins', '86 mins', '191 minutes',\n",
       "       '209 minutes', '171 minutes', '169 mins', '186 minutes',\n",
       "       '160 minutes', '54 mins', '75 mins', '182 minutes', '185 minutes',\n",
       "       '140 min', '23 minutes', '144 min', '160 mins', '33 mins',\n",
       "       '21 min', '23 min', '17 min', '19 minutes', '46 mins', '149 mins',\n",
       "       '144 mins', '131 mins', '206 min', '149 min', '31 mins', '51 mins',\n",
       "       '32 mins', '140 mins', '131 min', '177 minutes', '20 min',\n",
       "       '64 min', '11 minutes', '132 mins', '48 mins', '53 mins',\n",
       "       '22 mins', '77 mins', '71 mins', '22 min', '44 mins', '134 mins',\n",
       "       '11 mins', '208 minutes', '145 minutes', '122 mins', '170 minutes',\n",
       "       '33 minutes', '29 min', '152 minutes', '115 mins', '3 minutes',\n",
       "       '31 minutes', '139 mins', '135 mins', '146 min', '61 min',\n",
       "       '48 minutes', '27 minutes', '25 mins', '142 mins', '44 min',\n",
       "       '187 min', '43 mins', '49 min', '182 mins', '181 mins', '203 mins',\n",
       "       '201 mins', '184 mins', 'TV-MA', '188 min', '4 minutes',\n",
       "       '47 minutes', '41 minutes', '175 minutes', '184 minutes',\n",
       "       '145 mins', '27 mins', '161 mins', '126 mins', '27 min', '41 min',\n",
       "       '8 mins', '35 minutes', '53 min', '18 min', '52 mins', '121 mins',\n",
       "       '180 minutes', '133 mins', '23 mins', '70 min', '2 episodes',\n",
       "       '17 minutes', '32 min', '129 mins', '56S min', '42 min', '225 min',\n",
       "       '45 mins', '41 mins', '3 Episodes', '12 min',\n",
       "       '16 episodes - 28 mins', '312 min', '13 mins', '7 min', '0',\n",
       "       '52 min', '38S min', '10 min', '71 misn', '18 mins',\n",
       "       \"51 minsRising culinary talents battle Brazil\\\\'s best chefs to be named Iron Legend in this exhilarating competition hosted by Fernanda Souza and Andressa Cabral.\",\n",
       "       '270 min', '5 mins', '5 min', '37 min', '14 min', '48 min',\n",
       "       '57 min', '43 min', '7 mins', '42S min', '210 min', '6 mins',\n",
       "       'Kids', '4 Episodes', '189 mins', '53S min'], dtype=object)"
      ]
     },
     "execution_count": 12,
     "metadata": {},
     "output_type": "execute_result"
    }
   ],
   "source": [
    "df['runtime'].unique()"
   ]
  },
  {
   "cell_type": "markdown",
   "metadata": {},
   "source": [
    "# Language\n",
    "\n",
    "A lot of inconsistencies in spacing/naming of languages. I've replaced all that I found, but look through the unique values of the languages column below to see if anything suspicious stands out."
   ]
  },
  {
   "cell_type": "code",
   "execution_count": 13,
   "metadata": {},
   "outputs": [],
   "source": [
    "df['language'] = df['language'].replace('Telegu', 'Telugu')\n",
    "df['language'] = df['language'].replace('Telugu ', 'Telugu')\n",
    "df['language'] = df['language'].replace('Portuguese ', 'Portuguese')\n",
    "df['language'] = df['language'].replace('German ', 'German')\n",
    "df['language'] = df['language'].replace('Indonesian ', 'Indonesian')\n",
    "df['language'] = df['language'].replace('Cantonese ', 'Cantonese')\n",
    "df['language'] = df['language'].replace('TV-MA', 'English') # Rolling Stones Documentary 2021\n",
    "df['language'] = df['language'].replace('Kannada ', 'Kannada')\n",
    "df['language'] = df['language'].replace('Hungarian ', 'Hungarian')\n",
    "df['language'] = df['language'].replace('Khmer ', 'Khmer')\n",
    "df['language'] = df['language'].replace('Filipino ', 'Filipino')\n",
    "df['language'] = df['language'].replace('Mandarin ', 'Mandarin')\n",
    "df['language'] = df['language'].replace('Bengali', 'Bangla')\n",
    "df['language'] = df['language'].replace('Bangla ', 'Bangla')\n",
    "df['language'] = df['language'].replace('Comedy', 'Portuguese') # Lulli\n",
    "df['language'] = df['language'].replace('tt7866320', 'Portuguese') # Ride or Die (Japanese)\n",
    "df['language'] = df['language'].replace('Norwegian ', 'Norwegian')\n",
    "df['language'] = df['language'].replace(' Spanish', 'Spanish')\n",
    "df['language'] = df['language'].replace('Arabic ', 'Arabic')\n",
    "df['language'] = df['language'].replace('Brazilian Portuguese', 'Portuguese')\n",
    "df['language'] = df['language'].replace('Malayalam, Hindi, Tamil, Telugu, Kannada', 'Malayalam') # Kurup\n",
    "df['language'] = df['language'].replace('Tamil / Hindi / Telegu / Malayalam / Kannada', 'Tamil') # Annaatthe\n",
    "df['language'] = df['language'].replace('Tamil, Hindi, Kannada, Malayalam, Telugu', 'Tamil') # Beast, Etharkkum Thunindhavan\n",
    "df['language'] = df['language'].replace('Tamil & Hindi ', 'Tamil') # Boomika\n",
    "df['language'] = df['language'].replace('Tamil & Telegu', 'Tamil') # Tughlaq Durbar\n",
    "df['language'] = df['language'].replace('Telugu, Tamil, Kannada', 'Telugu') # Wild Dog\n",
    "df['language'] = df['language'].replace('Panjabi', 'Punjabi')\n",
    "df['language'] = df['language'].replace('Tamil, Telugu, Malayalam, Kannada', 'Tamil') # Katteri\n"
   ]
  },
  {
   "cell_type": "code",
   "execution_count": 14,
   "metadata": {
    "scrolled": false
   },
   "outputs": [
    {
     "data": {
      "text/plain": [
       "array(['Korean', 'English', 'Indonesian', 'Spanish', 'Arabic', 'Marathi',\n",
       "       'Italian', nan, 'Hindi', 'Polish', 'Japanese', 'Swahili',\n",
       "       'Portuguese', 'Mandarin', 'Turkish', 'Cantonese', 'Albanian',\n",
       "       'Filipino', 'Danish', 'Tamil', 'Telugu', 'Malayalam', 'Urdu',\n",
       "       'Thai', 'Yoruba', 'Malay', 'German', 'Zulu', 'French', 'Icelandic',\n",
       "       'Dutch', 'Norwegian', 'Wolof', 'Finnish', 'Kannada', 'Punjabi',\n",
       "       'Flemish', 'Bangla', 'Swedish', 'Tagalog', 'Vietnamese', 'Chinese',\n",
       "       'Afrikaans', 'Russian', 'Swiss German', 'Khmer', 'Hebrew', 'Dari',\n",
       "       'Czech', 'Xhosa', 'Dzongkha', 'Hausa', 'Yiddish', 'Hungarian',\n",
       "       'Akan', 'Gujarati', 'Romanian', 'Catalan', 'Georgian', 'Pashtu',\n",
       "       'Persian', 'Fulah', 'Ukranian', 'Galician', 'Luxembourgish',\n",
       "       'Nepali', 'Croatian'], dtype=object)"
      ]
     },
     "execution_count": 14,
     "metadata": {},
     "output_type": "execute_result"
    }
   ],
   "source": [
    "df['language'].unique()"
   ]
  },
  {
   "cell_type": "markdown",
   "metadata": {},
   "source": [
    "# Export"
   ]
  },
  {
   "cell_type": "code",
   "execution_count": 15,
   "metadata": {},
   "outputs": [],
   "source": [
    "df.to_csv(\"data_cleaned.csv\", index=False)"
   ]
  }
 ],
 "metadata": {
  "kernelspec": {
   "display_name": "Python 3",
   "language": "python",
   "name": "python3"
  },
  "language_info": {
   "codemirror_mode": {
    "name": "ipython",
    "version": 3
   },
   "file_extension": ".py",
   "mimetype": "text/x-python",
   "name": "python",
   "nbconvert_exporter": "python",
   "pygments_lexer": "ipython3",
   "version": "3.8.15"
  },
  "vscode": {
   "interpreter": {
    "hash": "4f17a0bda26eb5e2a7d200f507fab51eca08275c26292a49dc4c99ff8d55a36f"
   }
  }
 },
 "nbformat": 4,
 "nbformat_minor": 2
}
